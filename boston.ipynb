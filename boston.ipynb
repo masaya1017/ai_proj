{
  "nbformat": 4,
  "nbformat_minor": 0,
  "metadata": {
    "colab": {
      "name": "boston.ipynb",
      "provenance": [],
      "collapsed_sections": []
    },
    "kernelspec": {
      "name": "python3",
      "display_name": "Python 3"
    },
    "language_info": {
      "name": "python"
    }
  },
  "cells": [
    {
      "cell_type": "markdown",
      "source": [
        "#データの取得、前処理"
      ],
      "metadata": {
        "id": "7Vm6tCnAGJTs"
      }
    },
    {
      "cell_type": "code",
      "execution_count": 1,
      "metadata": {
        "colab": {
          "base_uri": "https://localhost:8080/"
        },
        "id": "rfxOY1lE0vuD",
        "outputId": "ce9a179a-c619-4ae8-e855-8ebac8084f04"
      },
      "outputs": [
        {
          "output_type": "stream",
          "name": "stderr",
          "text": [
            "/usr/local/lib/python3.7/dist-packages/sklearn/utils/deprecation.py:87: FutureWarning: Function load_boston is deprecated; `load_boston` is deprecated in 1.0 and will be removed in 1.2.\n",
            "\n",
            "    The Boston housing prices dataset has an ethical problem. You can refer to\n",
            "    the documentation of this function for further details.\n",
            "\n",
            "    The scikit-learn maintainers therefore strongly discourage the use of this\n",
            "    dataset unless the purpose of the code is to study and educate about\n",
            "    ethical issues in data science and machine learning.\n",
            "\n",
            "    In this special case, you can fetch the dataset from the original\n",
            "    source::\n",
            "\n",
            "        import pandas as pd\n",
            "        import numpy as np\n",
            "\n",
            "\n",
            "        data_url = \"http://lib.stat.cmu.edu/datasets/boston\"\n",
            "        raw_df = pd.read_csv(data_url, sep=\"\\s+\", skiprows=22, header=None)\n",
            "        data = np.hstack([raw_df.values[::2, :], raw_df.values[1::2, :2]])\n",
            "        target = raw_df.values[1::2, 2]\n",
            "\n",
            "    Alternative datasets include the California housing dataset (i.e.\n",
            "    :func:`~sklearn.datasets.fetch_california_housing`) and the Ames housing\n",
            "    dataset. You can load the datasets as follows::\n",
            "\n",
            "        from sklearn.datasets import fetch_california_housing\n",
            "        housing = fetch_california_housing()\n",
            "\n",
            "    for the California housing dataset and::\n",
            "\n",
            "        from sklearn.datasets import fetch_openml\n",
            "        housing = fetch_openml(name=\"house_prices\", as_frame=True)\n",
            "\n",
            "    for the Ames housing dataset.\n",
            "    \n",
            "  warnings.warn(msg, category=FutureWarning)\n"
          ]
        },
        {
          "output_type": "execute_result",
          "data": {
            "text/plain": [
              "{'DESCR': \".. _boston_dataset:\\n\\nBoston house prices dataset\\n---------------------------\\n\\n**Data Set Characteristics:**  \\n\\n    :Number of Instances: 506 \\n\\n    :Number of Attributes: 13 numeric/categorical predictive. Median Value (attribute 14) is usually the target.\\n\\n    :Attribute Information (in order):\\n        - CRIM     per capita crime rate by town\\n        - ZN       proportion of residential land zoned for lots over 25,000 sq.ft.\\n        - INDUS    proportion of non-retail business acres per town\\n        - CHAS     Charles River dummy variable (= 1 if tract bounds river; 0 otherwise)\\n        - NOX      nitric oxides concentration (parts per 10 million)\\n        - RM       average number of rooms per dwelling\\n        - AGE      proportion of owner-occupied units built prior to 1940\\n        - DIS      weighted distances to five Boston employment centres\\n        - RAD      index of accessibility to radial highways\\n        - TAX      full-value property-tax rate per $10,000\\n        - PTRATIO  pupil-teacher ratio by town\\n        - B        1000(Bk - 0.63)^2 where Bk is the proportion of black people by town\\n        - LSTAT    % lower status of the population\\n        - MEDV     Median value of owner-occupied homes in $1000's\\n\\n    :Missing Attribute Values: None\\n\\n    :Creator: Harrison, D. and Rubinfeld, D.L.\\n\\nThis is a copy of UCI ML housing dataset.\\nhttps://archive.ics.uci.edu/ml/machine-learning-databases/housing/\\n\\n\\nThis dataset was taken from the StatLib library which is maintained at Carnegie Mellon University.\\n\\nThe Boston house-price data of Harrison, D. and Rubinfeld, D.L. 'Hedonic\\nprices and the demand for clean air', J. Environ. Economics & Management,\\nvol.5, 81-102, 1978.   Used in Belsley, Kuh & Welsch, 'Regression diagnostics\\n...', Wiley, 1980.   N.B. Various transformations are used in the table on\\npages 244-261 of the latter.\\n\\nThe Boston house-price data has been used in many machine learning papers that address regression\\nproblems.   \\n     \\n.. topic:: References\\n\\n   - Belsley, Kuh & Welsch, 'Regression diagnostics: Identifying Influential Data and Sources of Collinearity', Wiley, 1980. 244-261.\\n   - Quinlan,R. (1993). Combining Instance-Based and Model-Based Learning. In Proceedings on the Tenth International Conference of Machine Learning, 236-243, University of Massachusetts, Amherst. Morgan Kaufmann.\\n\",\n",
              " 'data': array([[6.3200e-03, 1.8000e+01, 2.3100e+00, ..., 1.5300e+01, 3.9690e+02,\n",
              "         4.9800e+00],\n",
              "        [2.7310e-02, 0.0000e+00, 7.0700e+00, ..., 1.7800e+01, 3.9690e+02,\n",
              "         9.1400e+00],\n",
              "        [2.7290e-02, 0.0000e+00, 7.0700e+00, ..., 1.7800e+01, 3.9283e+02,\n",
              "         4.0300e+00],\n",
              "        ...,\n",
              "        [6.0760e-02, 0.0000e+00, 1.1930e+01, ..., 2.1000e+01, 3.9690e+02,\n",
              "         5.6400e+00],\n",
              "        [1.0959e-01, 0.0000e+00, 1.1930e+01, ..., 2.1000e+01, 3.9345e+02,\n",
              "         6.4800e+00],\n",
              "        [4.7410e-02, 0.0000e+00, 1.1930e+01, ..., 2.1000e+01, 3.9690e+02,\n",
              "         7.8800e+00]]),\n",
              " 'data_module': 'sklearn.datasets.data',\n",
              " 'feature_names': array(['CRIM', 'ZN', 'INDUS', 'CHAS', 'NOX', 'RM', 'AGE', 'DIS', 'RAD',\n",
              "        'TAX', 'PTRATIO', 'B', 'LSTAT'], dtype='<U7'),\n",
              " 'filename': 'boston_house_prices.csv',\n",
              " 'target': array([24. , 21.6, 34.7, 33.4, 36.2, 28.7, 22.9, 27.1, 16.5, 18.9, 15. ,\n",
              "        18.9, 21.7, 20.4, 18.2, 19.9, 23.1, 17.5, 20.2, 18.2, 13.6, 19.6,\n",
              "        15.2, 14.5, 15.6, 13.9, 16.6, 14.8, 18.4, 21. , 12.7, 14.5, 13.2,\n",
              "        13.1, 13.5, 18.9, 20. , 21. , 24.7, 30.8, 34.9, 26.6, 25.3, 24.7,\n",
              "        21.2, 19.3, 20. , 16.6, 14.4, 19.4, 19.7, 20.5, 25. , 23.4, 18.9,\n",
              "        35.4, 24.7, 31.6, 23.3, 19.6, 18.7, 16. , 22.2, 25. , 33. , 23.5,\n",
              "        19.4, 22. , 17.4, 20.9, 24.2, 21.7, 22.8, 23.4, 24.1, 21.4, 20. ,\n",
              "        20.8, 21.2, 20.3, 28. , 23.9, 24.8, 22.9, 23.9, 26.6, 22.5, 22.2,\n",
              "        23.6, 28.7, 22.6, 22. , 22.9, 25. , 20.6, 28.4, 21.4, 38.7, 43.8,\n",
              "        33.2, 27.5, 26.5, 18.6, 19.3, 20.1, 19.5, 19.5, 20.4, 19.8, 19.4,\n",
              "        21.7, 22.8, 18.8, 18.7, 18.5, 18.3, 21.2, 19.2, 20.4, 19.3, 22. ,\n",
              "        20.3, 20.5, 17.3, 18.8, 21.4, 15.7, 16.2, 18. , 14.3, 19.2, 19.6,\n",
              "        23. , 18.4, 15.6, 18.1, 17.4, 17.1, 13.3, 17.8, 14. , 14.4, 13.4,\n",
              "        15.6, 11.8, 13.8, 15.6, 14.6, 17.8, 15.4, 21.5, 19.6, 15.3, 19.4,\n",
              "        17. , 15.6, 13.1, 41.3, 24.3, 23.3, 27. , 50. , 50. , 50. , 22.7,\n",
              "        25. , 50. , 23.8, 23.8, 22.3, 17.4, 19.1, 23.1, 23.6, 22.6, 29.4,\n",
              "        23.2, 24.6, 29.9, 37.2, 39.8, 36.2, 37.9, 32.5, 26.4, 29.6, 50. ,\n",
              "        32. , 29.8, 34.9, 37. , 30.5, 36.4, 31.1, 29.1, 50. , 33.3, 30.3,\n",
              "        34.6, 34.9, 32.9, 24.1, 42.3, 48.5, 50. , 22.6, 24.4, 22.5, 24.4,\n",
              "        20. , 21.7, 19.3, 22.4, 28.1, 23.7, 25. , 23.3, 28.7, 21.5, 23. ,\n",
              "        26.7, 21.7, 27.5, 30.1, 44.8, 50. , 37.6, 31.6, 46.7, 31.5, 24.3,\n",
              "        31.7, 41.7, 48.3, 29. , 24. , 25.1, 31.5, 23.7, 23.3, 22. , 20.1,\n",
              "        22.2, 23.7, 17.6, 18.5, 24.3, 20.5, 24.5, 26.2, 24.4, 24.8, 29.6,\n",
              "        42.8, 21.9, 20.9, 44. , 50. , 36. , 30.1, 33.8, 43.1, 48.8, 31. ,\n",
              "        36.5, 22.8, 30.7, 50. , 43.5, 20.7, 21.1, 25.2, 24.4, 35.2, 32.4,\n",
              "        32. , 33.2, 33.1, 29.1, 35.1, 45.4, 35.4, 46. , 50. , 32.2, 22. ,\n",
              "        20.1, 23.2, 22.3, 24.8, 28.5, 37.3, 27.9, 23.9, 21.7, 28.6, 27.1,\n",
              "        20.3, 22.5, 29. , 24.8, 22. , 26.4, 33.1, 36.1, 28.4, 33.4, 28.2,\n",
              "        22.8, 20.3, 16.1, 22.1, 19.4, 21.6, 23.8, 16.2, 17.8, 19.8, 23.1,\n",
              "        21. , 23.8, 23.1, 20.4, 18.5, 25. , 24.6, 23. , 22.2, 19.3, 22.6,\n",
              "        19.8, 17.1, 19.4, 22.2, 20.7, 21.1, 19.5, 18.5, 20.6, 19. , 18.7,\n",
              "        32.7, 16.5, 23.9, 31.2, 17.5, 17.2, 23.1, 24.5, 26.6, 22.9, 24.1,\n",
              "        18.6, 30.1, 18.2, 20.6, 17.8, 21.7, 22.7, 22.6, 25. , 19.9, 20.8,\n",
              "        16.8, 21.9, 27.5, 21.9, 23.1, 50. , 50. , 50. , 50. , 50. , 13.8,\n",
              "        13.8, 15. , 13.9, 13.3, 13.1, 10.2, 10.4, 10.9, 11.3, 12.3,  8.8,\n",
              "         7.2, 10.5,  7.4, 10.2, 11.5, 15.1, 23.2,  9.7, 13.8, 12.7, 13.1,\n",
              "        12.5,  8.5,  5. ,  6.3,  5.6,  7.2, 12.1,  8.3,  8.5,  5. , 11.9,\n",
              "        27.9, 17.2, 27.5, 15. , 17.2, 17.9, 16.3,  7. ,  7.2,  7.5, 10.4,\n",
              "         8.8,  8.4, 16.7, 14.2, 20.8, 13.4, 11.7,  8.3, 10.2, 10.9, 11. ,\n",
              "         9.5, 14.5, 14.1, 16.1, 14.3, 11.7, 13.4,  9.6,  8.7,  8.4, 12.8,\n",
              "        10.5, 17.1, 18.4, 15.4, 10.8, 11.8, 14.9, 12.6, 14.1, 13. , 13.4,\n",
              "        15.2, 16.1, 17.8, 14.9, 14.1, 12.7, 13.5, 14.9, 20. , 16.4, 17.7,\n",
              "        19.5, 20.2, 21.4, 19.9, 19. , 19.1, 19.1, 20.1, 19.9, 19.6, 23.2,\n",
              "        29.8, 13.8, 13.3, 16.7, 12. , 14.6, 21.4, 23. , 23.7, 25. , 21.8,\n",
              "        20.6, 21.2, 19.1, 20.6, 15.2,  7. ,  8.1, 13.6, 20.1, 21.8, 24.5,\n",
              "        23.1, 19.7, 18.3, 21.2, 17.5, 16.8, 22.4, 20.6, 23.9, 22. , 11.9])}"
            ]
          },
          "metadata": {},
          "execution_count": 1
        }
      ],
      "source": [
        "from sklearn.datasets import load_boston\n",
        "#データの読み込み\n",
        "boston_dataset = load_boston()\n",
        "#データの中身はJSON形式\n",
        "boston_dataset"
      ]
    },
    {
      "cell_type": "code",
      "source": [
        "import pandas as pd\n",
        "boston_df = pd.DataFrame(boston_dataset.data, columns=boston_dataset.feature_names)\n",
        "#ターゲットのデータをテーブルに連結\n",
        "boston_df[\"target\"] = boston_dataset.target\n",
        "boston_df"
      ],
      "metadata": {
        "colab": {
          "base_uri": "https://localhost:8080/",
          "height": 423
        },
        "id": "IxHNlObo09LN",
        "outputId": "cff2e275-22e7-49b4-9717-91347897c67c"
      },
      "execution_count": 5,
      "outputs": [
        {
          "output_type": "execute_result",
          "data": {
            "text/plain": [
              "        CRIM    ZN  INDUS  CHAS    NOX     RM   AGE     DIS  RAD    TAX  \\\n",
              "0    0.00632  18.0   2.31   0.0  0.538  6.575  65.2  4.0900  1.0  296.0   \n",
              "1    0.02731   0.0   7.07   0.0  0.469  6.421  78.9  4.9671  2.0  242.0   \n",
              "2    0.02729   0.0   7.07   0.0  0.469  7.185  61.1  4.9671  2.0  242.0   \n",
              "3    0.03237   0.0   2.18   0.0  0.458  6.998  45.8  6.0622  3.0  222.0   \n",
              "4    0.06905   0.0   2.18   0.0  0.458  7.147  54.2  6.0622  3.0  222.0   \n",
              "..       ...   ...    ...   ...    ...    ...   ...     ...  ...    ...   \n",
              "501  0.06263   0.0  11.93   0.0  0.573  6.593  69.1  2.4786  1.0  273.0   \n",
              "502  0.04527   0.0  11.93   0.0  0.573  6.120  76.7  2.2875  1.0  273.0   \n",
              "503  0.06076   0.0  11.93   0.0  0.573  6.976  91.0  2.1675  1.0  273.0   \n",
              "504  0.10959   0.0  11.93   0.0  0.573  6.794  89.3  2.3889  1.0  273.0   \n",
              "505  0.04741   0.0  11.93   0.0  0.573  6.030  80.8  2.5050  1.0  273.0   \n",
              "\n",
              "     PTRATIO       B  LSTAT  target  \n",
              "0       15.3  396.90   4.98    24.0  \n",
              "1       17.8  396.90   9.14    21.6  \n",
              "2       17.8  392.83   4.03    34.7  \n",
              "3       18.7  394.63   2.94    33.4  \n",
              "4       18.7  396.90   5.33    36.2  \n",
              "..       ...     ...    ...     ...  \n",
              "501     21.0  391.99   9.67    22.4  \n",
              "502     21.0  396.90   9.08    20.6  \n",
              "503     21.0  396.90   5.64    23.9  \n",
              "504     21.0  393.45   6.48    22.0  \n",
              "505     21.0  396.90   7.88    11.9  \n",
              "\n",
              "[506 rows x 14 columns]"
            ],
            "text/html": [
              "\n",
              "  <div id=\"df-9707ba83-afe6-4ac7-9dc7-5287634d1f4a\">\n",
              "    <div class=\"colab-df-container\">\n",
              "      <div>\n",
              "<style scoped>\n",
              "    .dataframe tbody tr th:only-of-type {\n",
              "        vertical-align: middle;\n",
              "    }\n",
              "\n",
              "    .dataframe tbody tr th {\n",
              "        vertical-align: top;\n",
              "    }\n",
              "\n",
              "    .dataframe thead th {\n",
              "        text-align: right;\n",
              "    }\n",
              "</style>\n",
              "<table border=\"1\" class=\"dataframe\">\n",
              "  <thead>\n",
              "    <tr style=\"text-align: right;\">\n",
              "      <th></th>\n",
              "      <th>CRIM</th>\n",
              "      <th>ZN</th>\n",
              "      <th>INDUS</th>\n",
              "      <th>CHAS</th>\n",
              "      <th>NOX</th>\n",
              "      <th>RM</th>\n",
              "      <th>AGE</th>\n",
              "      <th>DIS</th>\n",
              "      <th>RAD</th>\n",
              "      <th>TAX</th>\n",
              "      <th>PTRATIO</th>\n",
              "      <th>B</th>\n",
              "      <th>LSTAT</th>\n",
              "      <th>target</th>\n",
              "    </tr>\n",
              "  </thead>\n",
              "  <tbody>\n",
              "    <tr>\n",
              "      <th>0</th>\n",
              "      <td>0.00632</td>\n",
              "      <td>18.0</td>\n",
              "      <td>2.31</td>\n",
              "      <td>0.0</td>\n",
              "      <td>0.538</td>\n",
              "      <td>6.575</td>\n",
              "      <td>65.2</td>\n",
              "      <td>4.0900</td>\n",
              "      <td>1.0</td>\n",
              "      <td>296.0</td>\n",
              "      <td>15.3</td>\n",
              "      <td>396.90</td>\n",
              "      <td>4.98</td>\n",
              "      <td>24.0</td>\n",
              "    </tr>\n",
              "    <tr>\n",
              "      <th>1</th>\n",
              "      <td>0.02731</td>\n",
              "      <td>0.0</td>\n",
              "      <td>7.07</td>\n",
              "      <td>0.0</td>\n",
              "      <td>0.469</td>\n",
              "      <td>6.421</td>\n",
              "      <td>78.9</td>\n",
              "      <td>4.9671</td>\n",
              "      <td>2.0</td>\n",
              "      <td>242.0</td>\n",
              "      <td>17.8</td>\n",
              "      <td>396.90</td>\n",
              "      <td>9.14</td>\n",
              "      <td>21.6</td>\n",
              "    </tr>\n",
              "    <tr>\n",
              "      <th>2</th>\n",
              "      <td>0.02729</td>\n",
              "      <td>0.0</td>\n",
              "      <td>7.07</td>\n",
              "      <td>0.0</td>\n",
              "      <td>0.469</td>\n",
              "      <td>7.185</td>\n",
              "      <td>61.1</td>\n",
              "      <td>4.9671</td>\n",
              "      <td>2.0</td>\n",
              "      <td>242.0</td>\n",
              "      <td>17.8</td>\n",
              "      <td>392.83</td>\n",
              "      <td>4.03</td>\n",
              "      <td>34.7</td>\n",
              "    </tr>\n",
              "    <tr>\n",
              "      <th>3</th>\n",
              "      <td>0.03237</td>\n",
              "      <td>0.0</td>\n",
              "      <td>2.18</td>\n",
              "      <td>0.0</td>\n",
              "      <td>0.458</td>\n",
              "      <td>6.998</td>\n",
              "      <td>45.8</td>\n",
              "      <td>6.0622</td>\n",
              "      <td>3.0</td>\n",
              "      <td>222.0</td>\n",
              "      <td>18.7</td>\n",
              "      <td>394.63</td>\n",
              "      <td>2.94</td>\n",
              "      <td>33.4</td>\n",
              "    </tr>\n",
              "    <tr>\n",
              "      <th>4</th>\n",
              "      <td>0.06905</td>\n",
              "      <td>0.0</td>\n",
              "      <td>2.18</td>\n",
              "      <td>0.0</td>\n",
              "      <td>0.458</td>\n",
              "      <td>7.147</td>\n",
              "      <td>54.2</td>\n",
              "      <td>6.0622</td>\n",
              "      <td>3.0</td>\n",
              "      <td>222.0</td>\n",
              "      <td>18.7</td>\n",
              "      <td>396.90</td>\n",
              "      <td>5.33</td>\n",
              "      <td>36.2</td>\n",
              "    </tr>\n",
              "    <tr>\n",
              "      <th>...</th>\n",
              "      <td>...</td>\n",
              "      <td>...</td>\n",
              "      <td>...</td>\n",
              "      <td>...</td>\n",
              "      <td>...</td>\n",
              "      <td>...</td>\n",
              "      <td>...</td>\n",
              "      <td>...</td>\n",
              "      <td>...</td>\n",
              "      <td>...</td>\n",
              "      <td>...</td>\n",
              "      <td>...</td>\n",
              "      <td>...</td>\n",
              "      <td>...</td>\n",
              "    </tr>\n",
              "    <tr>\n",
              "      <th>501</th>\n",
              "      <td>0.06263</td>\n",
              "      <td>0.0</td>\n",
              "      <td>11.93</td>\n",
              "      <td>0.0</td>\n",
              "      <td>0.573</td>\n",
              "      <td>6.593</td>\n",
              "      <td>69.1</td>\n",
              "      <td>2.4786</td>\n",
              "      <td>1.0</td>\n",
              "      <td>273.0</td>\n",
              "      <td>21.0</td>\n",
              "      <td>391.99</td>\n",
              "      <td>9.67</td>\n",
              "      <td>22.4</td>\n",
              "    </tr>\n",
              "    <tr>\n",
              "      <th>502</th>\n",
              "      <td>0.04527</td>\n",
              "      <td>0.0</td>\n",
              "      <td>11.93</td>\n",
              "      <td>0.0</td>\n",
              "      <td>0.573</td>\n",
              "      <td>6.120</td>\n",
              "      <td>76.7</td>\n",
              "      <td>2.2875</td>\n",
              "      <td>1.0</td>\n",
              "      <td>273.0</td>\n",
              "      <td>21.0</td>\n",
              "      <td>396.90</td>\n",
              "      <td>9.08</td>\n",
              "      <td>20.6</td>\n",
              "    </tr>\n",
              "    <tr>\n",
              "      <th>503</th>\n",
              "      <td>0.06076</td>\n",
              "      <td>0.0</td>\n",
              "      <td>11.93</td>\n",
              "      <td>0.0</td>\n",
              "      <td>0.573</td>\n",
              "      <td>6.976</td>\n",
              "      <td>91.0</td>\n",
              "      <td>2.1675</td>\n",
              "      <td>1.0</td>\n",
              "      <td>273.0</td>\n",
              "      <td>21.0</td>\n",
              "      <td>396.90</td>\n",
              "      <td>5.64</td>\n",
              "      <td>23.9</td>\n",
              "    </tr>\n",
              "    <tr>\n",
              "      <th>504</th>\n",
              "      <td>0.10959</td>\n",
              "      <td>0.0</td>\n",
              "      <td>11.93</td>\n",
              "      <td>0.0</td>\n",
              "      <td>0.573</td>\n",
              "      <td>6.794</td>\n",
              "      <td>89.3</td>\n",
              "      <td>2.3889</td>\n",
              "      <td>1.0</td>\n",
              "      <td>273.0</td>\n",
              "      <td>21.0</td>\n",
              "      <td>393.45</td>\n",
              "      <td>6.48</td>\n",
              "      <td>22.0</td>\n",
              "    </tr>\n",
              "    <tr>\n",
              "      <th>505</th>\n",
              "      <td>0.04741</td>\n",
              "      <td>0.0</td>\n",
              "      <td>11.93</td>\n",
              "      <td>0.0</td>\n",
              "      <td>0.573</td>\n",
              "      <td>6.030</td>\n",
              "      <td>80.8</td>\n",
              "      <td>2.5050</td>\n",
              "      <td>1.0</td>\n",
              "      <td>273.0</td>\n",
              "      <td>21.0</td>\n",
              "      <td>396.90</td>\n",
              "      <td>7.88</td>\n",
              "      <td>11.9</td>\n",
              "    </tr>\n",
              "  </tbody>\n",
              "</table>\n",
              "<p>506 rows × 14 columns</p>\n",
              "</div>\n",
              "      <button class=\"colab-df-convert\" onclick=\"convertToInteractive('df-9707ba83-afe6-4ac7-9dc7-5287634d1f4a')\"\n",
              "              title=\"Convert this dataframe to an interactive table.\"\n",
              "              style=\"display:none;\">\n",
              "        \n",
              "  <svg xmlns=\"http://www.w3.org/2000/svg\" height=\"24px\"viewBox=\"0 0 24 24\"\n",
              "       width=\"24px\">\n",
              "    <path d=\"M0 0h24v24H0V0z\" fill=\"none\"/>\n",
              "    <path d=\"M18.56 5.44l.94 2.06.94-2.06 2.06-.94-2.06-.94-.94-2.06-.94 2.06-2.06.94zm-11 1L8.5 8.5l.94-2.06 2.06-.94-2.06-.94L8.5 2.5l-.94 2.06-2.06.94zm10 10l.94 2.06.94-2.06 2.06-.94-2.06-.94-.94-2.06-.94 2.06-2.06.94z\"/><path d=\"M17.41 7.96l-1.37-1.37c-.4-.4-.92-.59-1.43-.59-.52 0-1.04.2-1.43.59L10.3 9.45l-7.72 7.72c-.78.78-.78 2.05 0 2.83L4 21.41c.39.39.9.59 1.41.59.51 0 1.02-.2 1.41-.59l7.78-7.78 2.81-2.81c.8-.78.8-2.07 0-2.86zM5.41 20L4 18.59l7.72-7.72 1.47 1.35L5.41 20z\"/>\n",
              "  </svg>\n",
              "      </button>\n",
              "      \n",
              "  <style>\n",
              "    .colab-df-container {\n",
              "      display:flex;\n",
              "      flex-wrap:wrap;\n",
              "      gap: 12px;\n",
              "    }\n",
              "\n",
              "    .colab-df-convert {\n",
              "      background-color: #E8F0FE;\n",
              "      border: none;\n",
              "      border-radius: 50%;\n",
              "      cursor: pointer;\n",
              "      display: none;\n",
              "      fill: #1967D2;\n",
              "      height: 32px;\n",
              "      padding: 0 0 0 0;\n",
              "      width: 32px;\n",
              "    }\n",
              "\n",
              "    .colab-df-convert:hover {\n",
              "      background-color: #E2EBFA;\n",
              "      box-shadow: 0px 1px 2px rgba(60, 64, 67, 0.3), 0px 1px 3px 1px rgba(60, 64, 67, 0.15);\n",
              "      fill: #174EA6;\n",
              "    }\n",
              "\n",
              "    [theme=dark] .colab-df-convert {\n",
              "      background-color: #3B4455;\n",
              "      fill: #D2E3FC;\n",
              "    }\n",
              "\n",
              "    [theme=dark] .colab-df-convert:hover {\n",
              "      background-color: #434B5C;\n",
              "      box-shadow: 0px 1px 3px 1px rgba(0, 0, 0, 0.15);\n",
              "      filter: drop-shadow(0px 1px 2px rgba(0, 0, 0, 0.3));\n",
              "      fill: #FFFFFF;\n",
              "    }\n",
              "  </style>\n",
              "\n",
              "      <script>\n",
              "        const buttonEl =\n",
              "          document.querySelector('#df-9707ba83-afe6-4ac7-9dc7-5287634d1f4a button.colab-df-convert');\n",
              "        buttonEl.style.display =\n",
              "          google.colab.kernel.accessAllowed ? 'block' : 'none';\n",
              "\n",
              "        async function convertToInteractive(key) {\n",
              "          const element = document.querySelector('#df-9707ba83-afe6-4ac7-9dc7-5287634d1f4a');\n",
              "          const dataTable =\n",
              "            await google.colab.kernel.invokeFunction('convertToInteractive',\n",
              "                                                     [key], {});\n",
              "          if (!dataTable) return;\n",
              "\n",
              "          const docLinkHtml = 'Like what you see? Visit the ' +\n",
              "            '<a target=\"_blank\" href=https://colab.research.google.com/notebooks/data_table.ipynb>data table notebook</a>'\n",
              "            + ' to learn more about interactive tables.';\n",
              "          element.innerHTML = '';\n",
              "          dataTable['output_type'] = 'display_data';\n",
              "          await google.colab.output.renderOutput(dataTable, element);\n",
              "          const docLink = document.createElement('div');\n",
              "          docLink.innerHTML = docLinkHtml;\n",
              "          element.appendChild(docLink);\n",
              "        }\n",
              "      </script>\n",
              "    </div>\n",
              "  </div>\n",
              "  "
            ]
          },
          "metadata": {},
          "execution_count": 5
        }
      ]
    },
    {
      "cell_type": "code",
      "source": [
        "boston_df.describe()"
      ],
      "metadata": {
        "colab": {
          "base_uri": "https://localhost:8080/",
          "height": 300
        },
        "id": "yYVaK5KN1a8W",
        "outputId": "5325ab0a-1f23-43e4-ce94-e335a7c2049f"
      },
      "execution_count": 6,
      "outputs": [
        {
          "output_type": "execute_result",
          "data": {
            "text/plain": [
              "             CRIM          ZN       INDUS        CHAS         NOX          RM  \\\n",
              "count  506.000000  506.000000  506.000000  506.000000  506.000000  506.000000   \n",
              "mean     3.613524   11.363636   11.136779    0.069170    0.554695    6.284634   \n",
              "std      8.601545   23.322453    6.860353    0.253994    0.115878    0.702617   \n",
              "min      0.006320    0.000000    0.460000    0.000000    0.385000    3.561000   \n",
              "25%      0.082045    0.000000    5.190000    0.000000    0.449000    5.885500   \n",
              "50%      0.256510    0.000000    9.690000    0.000000    0.538000    6.208500   \n",
              "75%      3.677083   12.500000   18.100000    0.000000    0.624000    6.623500   \n",
              "max     88.976200  100.000000   27.740000    1.000000    0.871000    8.780000   \n",
              "\n",
              "              AGE         DIS         RAD         TAX     PTRATIO           B  \\\n",
              "count  506.000000  506.000000  506.000000  506.000000  506.000000  506.000000   \n",
              "mean    68.574901    3.795043    9.549407  408.237154   18.455534  356.674032   \n",
              "std     28.148861    2.105710    8.707259  168.537116    2.164946   91.294864   \n",
              "min      2.900000    1.129600    1.000000  187.000000   12.600000    0.320000   \n",
              "25%     45.025000    2.100175    4.000000  279.000000   17.400000  375.377500   \n",
              "50%     77.500000    3.207450    5.000000  330.000000   19.050000  391.440000   \n",
              "75%     94.075000    5.188425   24.000000  666.000000   20.200000  396.225000   \n",
              "max    100.000000   12.126500   24.000000  711.000000   22.000000  396.900000   \n",
              "\n",
              "            LSTAT      target  \n",
              "count  506.000000  506.000000  \n",
              "mean    12.653063   22.532806  \n",
              "std      7.141062    9.197104  \n",
              "min      1.730000    5.000000  \n",
              "25%      6.950000   17.025000  \n",
              "50%     11.360000   21.200000  \n",
              "75%     16.955000   25.000000  \n",
              "max     37.970000   50.000000  "
            ],
            "text/html": [
              "\n",
              "  <div id=\"df-73ee522a-ca87-48a6-bd44-210575adeb05\">\n",
              "    <div class=\"colab-df-container\">\n",
              "      <div>\n",
              "<style scoped>\n",
              "    .dataframe tbody tr th:only-of-type {\n",
              "        vertical-align: middle;\n",
              "    }\n",
              "\n",
              "    .dataframe tbody tr th {\n",
              "        vertical-align: top;\n",
              "    }\n",
              "\n",
              "    .dataframe thead th {\n",
              "        text-align: right;\n",
              "    }\n",
              "</style>\n",
              "<table border=\"1\" class=\"dataframe\">\n",
              "  <thead>\n",
              "    <tr style=\"text-align: right;\">\n",
              "      <th></th>\n",
              "      <th>CRIM</th>\n",
              "      <th>ZN</th>\n",
              "      <th>INDUS</th>\n",
              "      <th>CHAS</th>\n",
              "      <th>NOX</th>\n",
              "      <th>RM</th>\n",
              "      <th>AGE</th>\n",
              "      <th>DIS</th>\n",
              "      <th>RAD</th>\n",
              "      <th>TAX</th>\n",
              "      <th>PTRATIO</th>\n",
              "      <th>B</th>\n",
              "      <th>LSTAT</th>\n",
              "      <th>target</th>\n",
              "    </tr>\n",
              "  </thead>\n",
              "  <tbody>\n",
              "    <tr>\n",
              "      <th>count</th>\n",
              "      <td>506.000000</td>\n",
              "      <td>506.000000</td>\n",
              "      <td>506.000000</td>\n",
              "      <td>506.000000</td>\n",
              "      <td>506.000000</td>\n",
              "      <td>506.000000</td>\n",
              "      <td>506.000000</td>\n",
              "      <td>506.000000</td>\n",
              "      <td>506.000000</td>\n",
              "      <td>506.000000</td>\n",
              "      <td>506.000000</td>\n",
              "      <td>506.000000</td>\n",
              "      <td>506.000000</td>\n",
              "      <td>506.000000</td>\n",
              "    </tr>\n",
              "    <tr>\n",
              "      <th>mean</th>\n",
              "      <td>3.613524</td>\n",
              "      <td>11.363636</td>\n",
              "      <td>11.136779</td>\n",
              "      <td>0.069170</td>\n",
              "      <td>0.554695</td>\n",
              "      <td>6.284634</td>\n",
              "      <td>68.574901</td>\n",
              "      <td>3.795043</td>\n",
              "      <td>9.549407</td>\n",
              "      <td>408.237154</td>\n",
              "      <td>18.455534</td>\n",
              "      <td>356.674032</td>\n",
              "      <td>12.653063</td>\n",
              "      <td>22.532806</td>\n",
              "    </tr>\n",
              "    <tr>\n",
              "      <th>std</th>\n",
              "      <td>8.601545</td>\n",
              "      <td>23.322453</td>\n",
              "      <td>6.860353</td>\n",
              "      <td>0.253994</td>\n",
              "      <td>0.115878</td>\n",
              "      <td>0.702617</td>\n",
              "      <td>28.148861</td>\n",
              "      <td>2.105710</td>\n",
              "      <td>8.707259</td>\n",
              "      <td>168.537116</td>\n",
              "      <td>2.164946</td>\n",
              "      <td>91.294864</td>\n",
              "      <td>7.141062</td>\n",
              "      <td>9.197104</td>\n",
              "    </tr>\n",
              "    <tr>\n",
              "      <th>min</th>\n",
              "      <td>0.006320</td>\n",
              "      <td>0.000000</td>\n",
              "      <td>0.460000</td>\n",
              "      <td>0.000000</td>\n",
              "      <td>0.385000</td>\n",
              "      <td>3.561000</td>\n",
              "      <td>2.900000</td>\n",
              "      <td>1.129600</td>\n",
              "      <td>1.000000</td>\n",
              "      <td>187.000000</td>\n",
              "      <td>12.600000</td>\n",
              "      <td>0.320000</td>\n",
              "      <td>1.730000</td>\n",
              "      <td>5.000000</td>\n",
              "    </tr>\n",
              "    <tr>\n",
              "      <th>25%</th>\n",
              "      <td>0.082045</td>\n",
              "      <td>0.000000</td>\n",
              "      <td>5.190000</td>\n",
              "      <td>0.000000</td>\n",
              "      <td>0.449000</td>\n",
              "      <td>5.885500</td>\n",
              "      <td>45.025000</td>\n",
              "      <td>2.100175</td>\n",
              "      <td>4.000000</td>\n",
              "      <td>279.000000</td>\n",
              "      <td>17.400000</td>\n",
              "      <td>375.377500</td>\n",
              "      <td>6.950000</td>\n",
              "      <td>17.025000</td>\n",
              "    </tr>\n",
              "    <tr>\n",
              "      <th>50%</th>\n",
              "      <td>0.256510</td>\n",
              "      <td>0.000000</td>\n",
              "      <td>9.690000</td>\n",
              "      <td>0.000000</td>\n",
              "      <td>0.538000</td>\n",
              "      <td>6.208500</td>\n",
              "      <td>77.500000</td>\n",
              "      <td>3.207450</td>\n",
              "      <td>5.000000</td>\n",
              "      <td>330.000000</td>\n",
              "      <td>19.050000</td>\n",
              "      <td>391.440000</td>\n",
              "      <td>11.360000</td>\n",
              "      <td>21.200000</td>\n",
              "    </tr>\n",
              "    <tr>\n",
              "      <th>75%</th>\n",
              "      <td>3.677083</td>\n",
              "      <td>12.500000</td>\n",
              "      <td>18.100000</td>\n",
              "      <td>0.000000</td>\n",
              "      <td>0.624000</td>\n",
              "      <td>6.623500</td>\n",
              "      <td>94.075000</td>\n",
              "      <td>5.188425</td>\n",
              "      <td>24.000000</td>\n",
              "      <td>666.000000</td>\n",
              "      <td>20.200000</td>\n",
              "      <td>396.225000</td>\n",
              "      <td>16.955000</td>\n",
              "      <td>25.000000</td>\n",
              "    </tr>\n",
              "    <tr>\n",
              "      <th>max</th>\n",
              "      <td>88.976200</td>\n",
              "      <td>100.000000</td>\n",
              "      <td>27.740000</td>\n",
              "      <td>1.000000</td>\n",
              "      <td>0.871000</td>\n",
              "      <td>8.780000</td>\n",
              "      <td>100.000000</td>\n",
              "      <td>12.126500</td>\n",
              "      <td>24.000000</td>\n",
              "      <td>711.000000</td>\n",
              "      <td>22.000000</td>\n",
              "      <td>396.900000</td>\n",
              "      <td>37.970000</td>\n",
              "      <td>50.000000</td>\n",
              "    </tr>\n",
              "  </tbody>\n",
              "</table>\n",
              "</div>\n",
              "      <button class=\"colab-df-convert\" onclick=\"convertToInteractive('df-73ee522a-ca87-48a6-bd44-210575adeb05')\"\n",
              "              title=\"Convert this dataframe to an interactive table.\"\n",
              "              style=\"display:none;\">\n",
              "        \n",
              "  <svg xmlns=\"http://www.w3.org/2000/svg\" height=\"24px\"viewBox=\"0 0 24 24\"\n",
              "       width=\"24px\">\n",
              "    <path d=\"M0 0h24v24H0V0z\" fill=\"none\"/>\n",
              "    <path d=\"M18.56 5.44l.94 2.06.94-2.06 2.06-.94-2.06-.94-.94-2.06-.94 2.06-2.06.94zm-11 1L8.5 8.5l.94-2.06 2.06-.94-2.06-.94L8.5 2.5l-.94 2.06-2.06.94zm10 10l.94 2.06.94-2.06 2.06-.94-2.06-.94-.94-2.06-.94 2.06-2.06.94z\"/><path d=\"M17.41 7.96l-1.37-1.37c-.4-.4-.92-.59-1.43-.59-.52 0-1.04.2-1.43.59L10.3 9.45l-7.72 7.72c-.78.78-.78 2.05 0 2.83L4 21.41c.39.39.9.59 1.41.59.51 0 1.02-.2 1.41-.59l7.78-7.78 2.81-2.81c.8-.78.8-2.07 0-2.86zM5.41 20L4 18.59l7.72-7.72 1.47 1.35L5.41 20z\"/>\n",
              "  </svg>\n",
              "      </button>\n",
              "      \n",
              "  <style>\n",
              "    .colab-df-container {\n",
              "      display:flex;\n",
              "      flex-wrap:wrap;\n",
              "      gap: 12px;\n",
              "    }\n",
              "\n",
              "    .colab-df-convert {\n",
              "      background-color: #E8F0FE;\n",
              "      border: none;\n",
              "      border-radius: 50%;\n",
              "      cursor: pointer;\n",
              "      display: none;\n",
              "      fill: #1967D2;\n",
              "      height: 32px;\n",
              "      padding: 0 0 0 0;\n",
              "      width: 32px;\n",
              "    }\n",
              "\n",
              "    .colab-df-convert:hover {\n",
              "      background-color: #E2EBFA;\n",
              "      box-shadow: 0px 1px 2px rgba(60, 64, 67, 0.3), 0px 1px 3px 1px rgba(60, 64, 67, 0.15);\n",
              "      fill: #174EA6;\n",
              "    }\n",
              "\n",
              "    [theme=dark] .colab-df-convert {\n",
              "      background-color: #3B4455;\n",
              "      fill: #D2E3FC;\n",
              "    }\n",
              "\n",
              "    [theme=dark] .colab-df-convert:hover {\n",
              "      background-color: #434B5C;\n",
              "      box-shadow: 0px 1px 3px 1px rgba(0, 0, 0, 0.15);\n",
              "      filter: drop-shadow(0px 1px 2px rgba(0, 0, 0, 0.3));\n",
              "      fill: #FFFFFF;\n",
              "    }\n",
              "  </style>\n",
              "\n",
              "      <script>\n",
              "        const buttonEl =\n",
              "          document.querySelector('#df-73ee522a-ca87-48a6-bd44-210575adeb05 button.colab-df-convert');\n",
              "        buttonEl.style.display =\n",
              "          google.colab.kernel.accessAllowed ? 'block' : 'none';\n",
              "\n",
              "        async function convertToInteractive(key) {\n",
              "          const element = document.querySelector('#df-73ee522a-ca87-48a6-bd44-210575adeb05');\n",
              "          const dataTable =\n",
              "            await google.colab.kernel.invokeFunction('convertToInteractive',\n",
              "                                                     [key], {});\n",
              "          if (!dataTable) return;\n",
              "\n",
              "          const docLinkHtml = 'Like what you see? Visit the ' +\n",
              "            '<a target=\"_blank\" href=https://colab.research.google.com/notebooks/data_table.ipynb>data table notebook</a>'\n",
              "            + ' to learn more about interactive tables.';\n",
              "          element.innerHTML = '';\n",
              "          dataTable['output_type'] = 'display_data';\n",
              "          await google.colab.output.renderOutput(dataTable, element);\n",
              "          const docLink = document.createElement('div');\n",
              "          docLink.innerHTML = docLinkHtml;\n",
              "          element.appendChild(docLink);\n",
              "        }\n",
              "      </script>\n",
              "    </div>\n",
              "  </div>\n",
              "  "
            ]
          },
          "metadata": {},
          "execution_count": 6
        }
      ]
    },
    {
      "cell_type": "code",
      "source": [
        "#欠損値の確認⇒問題なしなし\n",
        "boston_df.isnull().sum()"
      ],
      "metadata": {
        "colab": {
          "base_uri": "https://localhost:8080/"
        },
        "id": "VhrJr8P9_S_Q",
        "outputId": "a006d8cc-f0f7-43ce-fd09-fccab97a58f5"
      },
      "execution_count": 7,
      "outputs": [
        {
          "output_type": "execute_result",
          "data": {
            "text/plain": [
              "CRIM       0\n",
              "ZN         0\n",
              "INDUS      0\n",
              "CHAS       0\n",
              "NOX        0\n",
              "RM         0\n",
              "AGE        0\n",
              "DIS        0\n",
              "RAD        0\n",
              "TAX        0\n",
              "PTRATIO    0\n",
              "B          0\n",
              "LSTAT      0\n",
              "target     0\n",
              "dtype: int64"
            ]
          },
          "metadata": {},
          "execution_count": 7
        }
      ]
    },
    {
      "cell_type": "code",
      "source": [
        "#CRIM(犯罪率単独)\n",
        "import seaborn as sns\n",
        "crim=boston_df['CRIM']\n",
        "sns.distplot(crim)"
      ],
      "metadata": {
        "colab": {
          "base_uri": "https://localhost:8080/",
          "height": 354
        },
        "id": "-G_oUDFV_eCA",
        "outputId": "c8104a93-ce11-4b48-ce3b-838a27fb3170"
      },
      "execution_count": 11,
      "outputs": [
        {
          "output_type": "stream",
          "name": "stderr",
          "text": [
            "/usr/local/lib/python3.7/dist-packages/seaborn/distributions.py:2619: FutureWarning: `distplot` is a deprecated function and will be removed in a future version. Please adapt your code to use either `displot` (a figure-level function with similar flexibility) or `histplot` (an axes-level function for histograms).\n",
            "  warnings.warn(msg, FutureWarning)\n"
          ]
        },
        {
          "output_type": "execute_result",
          "data": {
            "text/plain": [
              "<matplotlib.axes._subplots.AxesSubplot at 0x7f4b30821510>"
            ]
          },
          "metadata": {},
          "execution_count": 11
        },
        {
          "output_type": "display_data",
          "data": {
            "text/plain": [
              "<Figure size 432x288 with 1 Axes>"
            ],
            "image/png": "[encoded data removed]"
          },
          "metadata": {
            "needs_background": "light"
          }
        }
      ]
    },
    {
      "cell_type": "code",
      "source": [
        "#箱ひげ図を用いて、外れ値を確認する。\n",
        "sns.boxplot(data=crim)"
      ],
      "metadata": {
        "colab": {
          "base_uri": "https://localhost:8080/",
          "height": 283
        },
        "id": "PkAsSJuPGwRr",
        "outputId": "ecbebde9-8820-43a9-97e5-9480fe5e8250"
      },
      "execution_count": 12,
      "outputs": [
        {
          "output_type": "execute_result",
          "data": {
            "text/plain": [
              "<matplotlib.axes._subplots.AxesSubplot at 0x7f4b2e6b7050>"
            ]
          },
          "metadata": {},
          "execution_count": 12
        },
        {
          "output_type": "display_data",
          "data": {
            "text/plain": [
              "<Figure size 432x288 with 1 Axes>"
            ],
            "image/png": "[encoded data removed]"
          },
          "metadata": {
            "needs_background": "light"
          }
        }
      ]
    },
    {
      "cell_type": "code",
      "source": [
        "#CRIMとtarget(住宅価格)の散布図\n",
        "sns.scatterplot(x=\"CRIM\", y=\"target\", data=boston_df)"
      ],
      "metadata": {
        "colab": {
          "base_uri": "https://localhost:8080/",
          "height": 297
        },
        "id": "HZRTFrB_HRu6",
        "outputId": "842d9901-d7b9-49ec-a780-bf46dd78f541"
      },
      "execution_count": 14,
      "outputs": [
        {
          "output_type": "execute_result",
          "data": {
            "text/plain": [
              "<matplotlib.axes._subplots.AxesSubplot at 0x7f4b2e09dbd0>"
            ]
          },
          "metadata": {},
          "execution_count": 14
        },
        {
          "output_type": "display_data",
          "data": {
            "text/plain": [
              "<Figure size 432x288 with 1 Axes>"
            ],
            "image/png": "[encoded data removed]"
          },
          "metadata": {
            "needs_background": "light"
          }
        }
      ]
    },
    {
      "cell_type": "markdown",
      "source": [
        "特徴 \\\n",
        "➀全体的に、CRIMは20％以下 \\\n",
        "➁犯罪率が低いほど、住宅価格が高い。（治安がいいほうがいいに決まっている）"
      ],
      "metadata": {
        "id": "9K3X0PHAHjXm"
      }
    },
    {
      "cell_type": "code",
      "source": [
        "#外れ値の除去\n",
        "#分位数が95%以下のものを抽出する。\n",
        "crim_ = boston_df.CRIM.quantile(0.95)\n",
        "boston_df_1 = boston_df.query('CRIM < @crim_')"
      ],
      "metadata": {
        "id": "mKy1dhvEIHUh"
      },
      "execution_count": 24,
      "outputs": []
    },
    {
      "cell_type": "code",
      "source": [
        "boston_df_1.describe()"
      ],
      "metadata": {
        "colab": {
          "base_uri": "https://localhost:8080/",
          "height": 300
        },
        "id": "tbBoP9qJIjPe",
        "outputId": "09df3ddb-a68c-43eb-a213-02a32e8234a5"
      },
      "execution_count": 25,
      "outputs": [
        {
          "output_type": "execute_result",
          "data": {
            "text/plain": [
              "             CRIM          ZN       INDUS        CHAS         NOX          RM  \\\n",
              "count  480.000000  480.000000  480.000000  480.000000  480.000000  480.000000   \n",
              "mean     2.092157   11.979167   10.759604    0.072917    0.548145    6.323646   \n",
              "std      3.648801   23.792281    6.844319    0.260271    0.115164    0.673505   \n",
              "min      0.006320    0.000000    0.460000    0.000000    0.385000    3.561000   \n",
              "25%      0.078832    0.000000    5.085000    0.000000    0.448000    5.913750   \n",
              "50%      0.222000    0.000000    8.560000    0.000000    0.524000    6.222500   \n",
              "75%      2.256870   20.000000   18.100000    0.000000    0.614000    6.632000   \n",
              "max     15.575700  100.000000   27.740000    1.000000    0.871000    8.780000   \n",
              "\n",
              "              AGE         DIS         RAD         TAX     PTRATIO           B  \\\n",
              "count  480.000000  480.000000  480.000000  480.000000  480.000000  480.000000   \n",
              "mean    67.079167    3.916977    8.766667  394.275000   18.361042  361.306875   \n",
              "std     28.108887    2.093461    8.245182  161.693463    2.183407   83.412034   \n",
              "min      2.900000    1.129600    1.000000  187.000000   12.600000    0.320000   \n",
              "25%     42.375000    2.199800    4.000000  277.000000   16.900000  376.140000   \n",
              "50%     74.450000    3.375100    5.000000  322.000000   18.700000  391.465000   \n",
              "75%     92.925000    5.287300    8.000000  437.000000   20.200000  396.060000   \n",
              "max    100.000000   12.126500   24.000000  711.000000   22.000000  396.900000   \n",
              "\n",
              "            LSTAT      target  \n",
              "count  480.000000  480.000000  \n",
              "mean    11.991396   23.203542  \n",
              "std      6.532348    8.932629  \n",
              "min      1.730000    6.300000  \n",
              "25%      6.745000   17.800000  \n",
              "50%     10.610000   21.700000  \n",
              "75%     16.155000   26.250000  \n",
              "max     34.770000   50.000000  "
            ],
            "text/html": [
              "\n",
              "  <div id=\"df-86e84d99-ab39-4c4b-a238-da7dd7a1fbab\">\n",
              "    <div class=\"colab-df-container\">\n",
              "      <div>\n",
              "<style scoped>\n",
              "    .dataframe tbody tr th:only-of-type {\n",
              "        vertical-align: middle;\n",
              "    }\n",
              "\n",
              "    .dataframe tbody tr th {\n",
              "        vertical-align: top;\n",
              "    }\n",
              "\n",
              "    .dataframe thead th {\n",
              "        text-align: right;\n",
              "    }\n",
              "</style>\n",
              "<table border=\"1\" class=\"dataframe\">\n",
              "  <thead>\n",
              "    <tr style=\"text-align: right;\">\n",
              "      <th></th>\n",
              "      <th>CRIM</th>\n",
              "      <th>ZN</th>\n",
              "      <th>INDUS</th>\n",
              "      <th>CHAS</th>\n",
              "      <th>NOX</th>\n",
              "      <th>RM</th>\n",
              "      <th>AGE</th>\n",
              "      <th>DIS</th>\n",
              "      <th>RAD</th>\n",
              "      <th>TAX</th>\n",
              "      <th>PTRATIO</th>\n",
              "      <th>B</th>\n",
              "      <th>LSTAT</th>\n",
              "      <th>target</th>\n",
              "    </tr>\n",
              "  </thead>\n",
              "  <tbody>\n",
              "    <tr>\n",
              "      <th>count</th>\n",
              "      <td>480.000000</td>\n",
              "      <td>480.000000</td>\n",
              "      <td>480.000000</td>\n",
              "      <td>480.000000</td>\n",
              "      <td>480.000000</td>\n",
              "      <td>480.000000</td>\n",
              "      <td>480.000000</td>\n",
              "      <td>480.000000</td>\n",
              "      <td>480.000000</td>\n",
              "      <td>480.000000</td>\n",
              "      <td>480.000000</td>\n",
              "      <td>480.000000</td>\n",
              "      <td>480.000000</td>\n",
              "      <td>480.000000</td>\n",
              "    </tr>\n",
              "    <tr>\n",
              "      <th>mean</th>\n",
              "      <td>2.092157</td>\n",
              "      <td>11.979167</td>\n",
              "      <td>10.759604</td>\n",
              "      <td>0.072917</td>\n",
              "      <td>0.548145</td>\n",
              "      <td>6.323646</td>\n",
              "      <td>67.079167</td>\n",
              "      <td>3.916977</td>\n",
              "      <td>8.766667</td>\n",
              "      <td>394.275000</td>\n",
              "      <td>18.361042</td>\n",
              "      <td>361.306875</td>\n",
              "      <td>11.991396</td>\n",
              "      <td>23.203542</td>\n",
              "    </tr>\n",
              "    <tr>\n",
              "      <th>std</th>\n",
              "      <td>3.648801</td>\n",
              "      <td>23.792281</td>\n",
              "      <td>6.844319</td>\n",
              "      <td>0.260271</td>\n",
              "      <td>0.115164</td>\n",
              "      <td>0.673505</td>\n",
              "      <td>28.108887</td>\n",
              "      <td>2.093461</td>\n",
              "      <td>8.245182</td>\n",
              "      <td>161.693463</td>\n",
              "      <td>2.183407</td>\n",
              "      <td>83.412034</td>\n",
              "      <td>6.532348</td>\n",
              "      <td>8.932629</td>\n",
              "    </tr>\n",
              "    <tr>\n",
              "      <th>min</th>\n",
              "      <td>0.006320</td>\n",
              "      <td>0.000000</td>\n",
              "      <td>0.460000</td>\n",
              "      <td>0.000000</td>\n",
              "      <td>0.385000</td>\n",
              "      <td>3.561000</td>\n",
              "      <td>2.900000</td>\n",
              "      <td>1.129600</td>\n",
              "      <td>1.000000</td>\n",
              "      <td>187.000000</td>\n",
              "      <td>12.600000</td>\n",
              "      <td>0.320000</td>\n",
              "      <td>1.730000</td>\n",
              "      <td>6.300000</td>\n",
              "    </tr>\n",
              "    <tr>\n",
              "      <th>25%</th>\n",
              "      <td>0.078832</td>\n",
              "      <td>0.000000</td>\n",
              "      <td>5.085000</td>\n",
              "      <td>0.000000</td>\n",
              "      <td>0.448000</td>\n",
              "      <td>5.913750</td>\n",
              "      <td>42.375000</td>\n",
              "      <td>2.199800</td>\n",
              "      <td>4.000000</td>\n",
              "      <td>277.000000</td>\n",
              "      <td>16.900000</td>\n",
              "      <td>376.140000</td>\n",
              "      <td>6.745000</td>\n",
              "      <td>17.800000</td>\n",
              "    </tr>\n",
              "    <tr>\n",
              "      <th>50%</th>\n",
              "      <td>0.222000</td>\n",
              "      <td>0.000000</td>\n",
              "      <td>8.560000</td>\n",
              "      <td>0.000000</td>\n",
              "      <td>0.524000</td>\n",
              "      <td>6.222500</td>\n",
              "      <td>74.450000</td>\n",
              "      <td>3.375100</td>\n",
              "      <td>5.000000</td>\n",
              "      <td>322.000000</td>\n",
              "      <td>18.700000</td>\n",
              "      <td>391.465000</td>\n",
              "      <td>10.610000</td>\n",
              "      <td>21.700000</td>\n",
              "    </tr>\n",
              "    <tr>\n",
              "      <th>75%</th>\n",
              "      <td>2.256870</td>\n",
              "      <td>20.000000</td>\n",
              "      <td>18.100000</td>\n",
              "      <td>0.000000</td>\n",
              "      <td>0.614000</td>\n",
              "      <td>6.632000</td>\n",
              "      <td>92.925000</td>\n",
              "      <td>5.287300</td>\n",
              "      <td>8.000000</td>\n",
              "      <td>437.000000</td>\n",
              "      <td>20.200000</td>\n",
              "      <td>396.060000</td>\n",
              "      <td>16.155000</td>\n",
              "      <td>26.250000</td>\n",
              "    </tr>\n",
              "    <tr>\n",
              "      <th>max</th>\n",
              "      <td>15.575700</td>\n",
              "      <td>100.000000</td>\n",
              "      <td>27.740000</td>\n",
              "      <td>1.000000</td>\n",
              "      <td>0.871000</td>\n",
              "      <td>8.780000</td>\n",
              "      <td>100.000000</td>\n",
              "      <td>12.126500</td>\n",
              "      <td>24.000000</td>\n",
              "      <td>711.000000</td>\n",
              "      <td>22.000000</td>\n",
              "      <td>396.900000</td>\n",
              "      <td>34.770000</td>\n",
              "      <td>50.000000</td>\n",
              "    </tr>\n",
              "  </tbody>\n",
              "</table>\n",
              "</div>\n",
              "      <button class=\"colab-df-convert\" onclick=\"convertToInteractive('df-86e84d99-ab39-4c4b-a238-da7dd7a1fbab')\"\n",
              "              title=\"Convert this dataframe to an interactive table.\"\n",
              "              style=\"display:none;\">\n",
              "        \n",
              "  <svg xmlns=\"http://www.w3.org/2000/svg\" height=\"24px\"viewBox=\"0 0 24 24\"\n",
              "       width=\"24px\">\n",
              "    <path d=\"M0 0h24v24H0V0z\" fill=\"none\"/>\n",
              "    <path d=\"M18.56 5.44l.94 2.06.94-2.06 2.06-.94-2.06-.94-.94-2.06-.94 2.06-2.06.94zm-11 1L8.5 8.5l.94-2.06 2.06-.94-2.06-.94L8.5 2.5l-.94 2.06-2.06.94zm10 10l.94 2.06.94-2.06 2.06-.94-2.06-.94-.94-2.06-.94 2.06-2.06.94z\"/><path d=\"M17.41 7.96l-1.37-1.37c-.4-.4-.92-.59-1.43-.59-.52 0-1.04.2-1.43.59L10.3 9.45l-7.72 7.72c-.78.78-.78 2.05 0 2.83L4 21.41c.39.39.9.59 1.41.59.51 0 1.02-.2 1.41-.59l7.78-7.78 2.81-2.81c.8-.78.8-2.07 0-2.86zM5.41 20L4 18.59l7.72-7.72 1.47 1.35L5.41 20z\"/>\n",
              "  </svg>\n",
              "      </button>\n",
              "      \n",
              "  <style>\n",
              "    .colab-df-container {\n",
              "      display:flex;\n",
              "      flex-wrap:wrap;\n",
              "      gap: 12px;\n",
              "    }\n",
              "\n",
              "    .colab-df-convert {\n",
              "      background-color: #E8F0FE;\n",
              "      border: none;\n",
              "      border-radius: 50%;\n",
              "      cursor: pointer;\n",
              "      display: none;\n",
              "      fill: #1967D2;\n",
              "      height: 32px;\n",
              "      padding: 0 0 0 0;\n",
              "      width: 32px;\n",
              "    }\n",
              "\n",
              "    .colab-df-convert:hover {\n",
              "      background-color: #E2EBFA;\n",
              "      box-shadow: 0px 1px 2px rgba(60, 64, 67, 0.3), 0px 1px 3px 1px rgba(60, 64, 67, 0.15);\n",
              "      fill: #174EA6;\n",
              "    }\n",
              "\n",
              "    [theme=dark] .colab-df-convert {\n",
              "      background-color: #3B4455;\n",
              "      fill: #D2E3FC;\n",
              "    }\n",
              "\n",
              "    [theme=dark] .colab-df-convert:hover {\n",
              "      background-color: #434B5C;\n",
              "      box-shadow: 0px 1px 3px 1px rgba(0, 0, 0, 0.15);\n",
              "      filter: drop-shadow(0px 1px 2px rgba(0, 0, 0, 0.3));\n",
              "      fill: #FFFFFF;\n",
              "    }\n",
              "  </style>\n",
              "\n",
              "      <script>\n",
              "        const buttonEl =\n",
              "          document.querySelector('#df-86e84d99-ab39-4c4b-a238-da7dd7a1fbab button.colab-df-convert');\n",
              "        buttonEl.style.display =\n",
              "          google.colab.kernel.accessAllowed ? 'block' : 'none';\n",
              "\n",
              "        async function convertToInteractive(key) {\n",
              "          const element = document.querySelector('#df-86e84d99-ab39-4c4b-a238-da7dd7a1fbab');\n",
              "          const dataTable =\n",
              "            await google.colab.kernel.invokeFunction('convertToInteractive',\n",
              "                                                     [key], {});\n",
              "          if (!dataTable) return;\n",
              "\n",
              "          const docLinkHtml = 'Like what you see? Visit the ' +\n",
              "            '<a target=\"_blank\" href=https://colab.research.google.com/notebooks/data_table.ipynb>data table notebook</a>'\n",
              "            + ' to learn more about interactive tables.';\n",
              "          element.innerHTML = '';\n",
              "          dataTable['output_type'] = 'display_data';\n",
              "          await google.colab.output.renderOutput(dataTable, element);\n",
              "          const docLink = document.createElement('div');\n",
              "          docLink.innerHTML = docLinkHtml;\n",
              "          element.appendChild(docLink);\n",
              "        }\n",
              "      </script>\n",
              "    </div>\n",
              "  </div>\n",
              "  "
            ]
          },
          "metadata": {},
          "execution_count": 25
        }
      ]
    },
    {
      "cell_type": "markdown",
      "source": [
        "CRIMを見てみると、Maxが88.976200⇒15.575700となり、とりあえず外れ値が除去できていることがわかる。"
      ],
      "metadata": {
        "id": "JViZOiz9JRXi"
      }
    },
    {
      "cell_type": "code",
      "source": [
        "#ZN単独\n",
        "zn=boston_df['ZN']\n",
        "sns.distplot(zn)"
      ],
      "metadata": {
        "colab": {
          "base_uri": "https://localhost:8080/",
          "height": 354
        },
        "id": "tfGa2NF6_d_n",
        "outputId": "746242e2-597e-45c7-b952-919150f4503e"
      },
      "execution_count": 15,
      "outputs": [
        {
          "output_type": "stream",
          "name": "stderr",
          "text": [
            "/usr/local/lib/python3.7/dist-packages/seaborn/distributions.py:2619: FutureWarning: `distplot` is a deprecated function and will be removed in a future version. Please adapt your code to use either `displot` (a figure-level function with similar flexibility) or `histplot` (an axes-level function for histograms).\n",
            "  warnings.warn(msg, FutureWarning)\n"
          ]
        },
        {
          "output_type": "execute_result",
          "data": {
            "text/plain": [
              "<matplotlib.axes._subplots.AxesSubplot at 0x7f4b2e07cc90>"
            ]
          },
          "metadata": {},
          "execution_count": 15
        },
        {
          "output_type": "display_data",
          "data": {
            "text/plain": [
              "<Figure size 432x288 with 1 Axes>"
            ],
            "image/png": "[encoded data removed]"
          },
          "metadata": {
            "needs_background": "light"
          }
        }
      ]
    },
    {
      "cell_type": "code",
      "source": [
        "#箱ひげ図を用いて、外れ値を確認する。\n",
        "sns.boxplot(data=zn)"
      ],
      "metadata": {
        "colab": {
          "base_uri": "https://localhost:8080/",
          "height": 283
        },
        "id": "CnPsKj6lIC2p",
        "outputId": "317dabb2-5d24-41b1-ecdb-5aad23d0a486"
      },
      "execution_count": 16,
      "outputs": [
        {
          "output_type": "execute_result",
          "data": {
            "text/plain": [
              "<matplotlib.axes._subplots.AxesSubplot at 0x7f4b2e06e510>"
            ]
          },
          "metadata": {},
          "execution_count": 16
        },
        {
          "output_type": "display_data",
          "data": {
            "text/plain": [
              "<Figure size 432x288 with 1 Axes>"
            ],
            "image/png": "[encoded data removed]"
          },
          "metadata": {
            "needs_background": "light"
          }
        }
      ]
    },
    {
      "cell_type": "markdown",
      "source": [
        "ZNについて、平均と標準偏差から外れ値があるように思われたが、可視化してみると、データは平均から最大値まで比較的データが散らばっていることがわかるので、除外はしない。"
      ],
      "metadata": {
        "id": "IsGnUsQ9JsRW"
      }
    },
    {
      "cell_type": "markdown",
      "source": [
        "#特徴量の重要度の可視化（ランダムフォレスト）\n"
      ],
      "metadata": {
        "id": "etZifZSLKLSl"
      }
    },
    {
      "cell_type": "code",
      "source": [
        "import numpy as np\n",
        "import pandas as pd\n",
        "import matplotlib.pyplot as plt\n",
        "from sklearn.ensemble import RandomForestClassifier\n",
        "from sklearn.model_selection import train_test_split\n",
        "from sklearn.metrics import classification_report"
      ],
      "metadata": {
        "id": "unLsETe42GIN"
      },
      "execution_count": 26,
      "outputs": []
    },
    {
      "cell_type": "code",
      "source": [
        "#ランダムフォレストの実施\n",
        "X = pd.DataFrame(boston_df_1, columns=boston_dataset.feature_names)\n",
        "y = boston_df_1.target"
      ],
      "metadata": {
        "id": "429Dcmqi1b9F"
      },
      "execution_count": 31,
      "outputs": []
    },
    {
      "cell_type": "code",
      "source": [
        "#データの分割\n",
        "x_train, x_test, y_train, y_test = train_test_split(X, y, test_size=0.20, random_state=42)"
      ],
      "metadata": {
        "id": "Lz6itSw62GFx"
      },
      "execution_count": 32,
      "outputs": []
    },
    {
      "cell_type": "code",
      "source": [
        "# アンサンブル学習の一種であるランダムフォレストの実施\n",
        "from sklearn.ensemble import RandomForestRegressor\n",
        "RANDOM_STATE=5\n",
        "RF = RandomForestRegressor(random_state=RANDOM_STATE)\n",
        "RF.fit(x_train, y_train)\n",
        "#特徴量の重要度\n",
        "feature = RF.feature_importances_\n",
        "#特徴量の重要度順（降順）\n",
        "indices = np.argsort(feature)[::-1]\n",
        "label=boston_df.columns[0:]"
      ],
      "metadata": {
        "id": "Qy1VNnri2GDj"
      },
      "execution_count": 34,
      "outputs": []
    },
    {
      "cell_type": "code",
      "source": [
        "plt.title('Feature Importance')\n",
        "plt.bar(range(len(feature)),feature[indices], color='lightblue', align='center')\n",
        "plt.xticks(range(len(feature)), label[indices], rotation=90)\n",
        "plt.xlim([-1, len(feature)])\n",
        "plt.tight_layout()\n",
        "plt.show()"
      ],
      "metadata": {
        "colab": {
          "base_uri": "https://localhost:8080/",
          "height": 297
        },
        "id": "-QgHiciY2qle",
        "outputId": "895b4d1e-9b52-46cb-e7b5-6ecf5aa468c1"
      },
      "execution_count": 35,
      "outputs": [
        {
          "output_type": "display_data",
          "data": {
            "text/plain": [
              "<Figure size 432x288 with 1 Axes>"
            ],
            "image/png": "[encoded data removed]"
          },
          "metadata": {
            "needs_background": "light"
          }
        }
      ]
    },
    {
      "cell_type": "markdown",
      "source": [
        "データを見ると、RMとLSTATがtargetに対して二つで全体の8割近くの影響を与えていることがわかる。"
      ],
      "metadata": {
        "id": "vp3YubRP6ajO"
      }
    },
    {
      "cell_type": "code",
      "source": [
        "#影響度の高いもののみを抽出する。\n",
        "df=boston_df_1[['RM','LSTAT']]\n",
        "df"
      ],
      "metadata": {
        "id": "_YOUM5L-282T",
        "colab": {
          "base_uri": "https://localhost:8080/",
          "height": 423
        },
        "outputId": "190db7e4-052f-40c4-f41f-e71ddda8b1b8"
      },
      "execution_count": 36,
      "outputs": [
        {
          "output_type": "execute_result",
          "data": {
            "text/plain": [
              "        RM  LSTAT\n",
              "0    6.575   4.98\n",
              "1    6.421   9.14\n",
              "2    7.185   4.03\n",
              "3    6.998   2.94\n",
              "4    7.147   5.33\n",
              "..     ...    ...\n",
              "501  6.593   9.67\n",
              "502  6.120   9.08\n",
              "503  6.976   5.64\n",
              "504  6.794   6.48\n",
              "505  6.030   7.88\n",
              "\n",
              "[480 rows x 2 columns]"
            ],
            "text/html": [
              "\n",
              "  <div id=\"df-4f97f8d7-e2bc-40f9-abd6-19a7e833b14d\">\n",
              "    <div class=\"colab-df-container\">\n",
              "      <div>\n",
              "<style scoped>\n",
              "    .dataframe tbody tr th:only-of-type {\n",
              "        vertical-align: middle;\n",
              "    }\n",
              "\n",
              "    .dataframe tbody tr th {\n",
              "        vertical-align: top;\n",
              "    }\n",
              "\n",
              "    .dataframe thead th {\n",
              "        text-align: right;\n",
              "    }\n",
              "</style>\n",
              "<table border=\"1\" class=\"dataframe\">\n",
              "  <thead>\n",
              "    <tr style=\"text-align: right;\">\n",
              "      <th></th>\n",
              "      <th>RM</th>\n",
              "      <th>LSTAT</th>\n",
              "    </tr>\n",
              "  </thead>\n",
              "  <tbody>\n",
              "    <tr>\n",
              "      <th>0</th>\n",
              "      <td>6.575</td>\n",
              "      <td>4.98</td>\n",
              "    </tr>\n",
              "    <tr>\n",
              "      <th>1</th>\n",
              "      <td>6.421</td>\n",
              "      <td>9.14</td>\n",
              "    </tr>\n",
              "    <tr>\n",
              "      <th>2</th>\n",
              "      <td>7.185</td>\n",
              "      <td>4.03</td>\n",
              "    </tr>\n",
              "    <tr>\n",
              "      <th>3</th>\n",
              "      <td>6.998</td>\n",
              "      <td>2.94</td>\n",
              "    </tr>\n",
              "    <tr>\n",
              "      <th>4</th>\n",
              "      <td>7.147</td>\n",
              "      <td>5.33</td>\n",
              "    </tr>\n",
              "    <tr>\n",
              "      <th>...</th>\n",
              "      <td>...</td>\n",
              "      <td>...</td>\n",
              "    </tr>\n",
              "    <tr>\n",
              "      <th>501</th>\n",
              "      <td>6.593</td>\n",
              "      <td>9.67</td>\n",
              "    </tr>\n",
              "    <tr>\n",
              "      <th>502</th>\n",
              "      <td>6.120</td>\n",
              "      <td>9.08</td>\n",
              "    </tr>\n",
              "    <tr>\n",
              "      <th>503</th>\n",
              "      <td>6.976</td>\n",
              "      <td>5.64</td>\n",
              "    </tr>\n",
              "    <tr>\n",
              "      <th>504</th>\n",
              "      <td>6.794</td>\n",
              "      <td>6.48</td>\n",
              "    </tr>\n",
              "    <tr>\n",
              "      <th>505</th>\n",
              "      <td>6.030</td>\n",
              "      <td>7.88</td>\n",
              "    </tr>\n",
              "  </tbody>\n",
              "</table>\n",
              "<p>480 rows × 2 columns</p>\n",
              "</div>\n",
              "      <button class=\"colab-df-convert\" onclick=\"convertToInteractive('df-4f97f8d7-e2bc-40f9-abd6-19a7e833b14d')\"\n",
              "              title=\"Convert this dataframe to an interactive table.\"\n",
              "              style=\"display:none;\">\n",
              "        \n",
              "  <svg xmlns=\"http://www.w3.org/2000/svg\" height=\"24px\"viewBox=\"0 0 24 24\"\n",
              "       width=\"24px\">\n",
              "    <path d=\"M0 0h24v24H0V0z\" fill=\"none\"/>\n",
              "    <path d=\"M18.56 5.44l.94 2.06.94-2.06 2.06-.94-2.06-.94-.94-2.06-.94 2.06-2.06.94zm-11 1L8.5 8.5l.94-2.06 2.06-.94-2.06-.94L8.5 2.5l-.94 2.06-2.06.94zm10 10l.94 2.06.94-2.06 2.06-.94-2.06-.94-.94-2.06-.94 2.06-2.06.94z\"/><path d=\"M17.41 7.96l-1.37-1.37c-.4-.4-.92-.59-1.43-.59-.52 0-1.04.2-1.43.59L10.3 9.45l-7.72 7.72c-.78.78-.78 2.05 0 2.83L4 21.41c.39.39.9.59 1.41.59.51 0 1.02-.2 1.41-.59l7.78-7.78 2.81-2.81c.8-.78.8-2.07 0-2.86zM5.41 20L4 18.59l7.72-7.72 1.47 1.35L5.41 20z\"/>\n",
              "  </svg>\n",
              "      </button>\n",
              "      \n",
              "  <style>\n",
              "    .colab-df-container {\n",
              "      display:flex;\n",
              "      flex-wrap:wrap;\n",
              "      gap: 12px;\n",
              "    }\n",
              "\n",
              "    .colab-df-convert {\n",
              "      background-color: #E8F0FE;\n",
              "      border: none;\n",
              "      border-radius: 50%;\n",
              "      cursor: pointer;\n",
              "      display: none;\n",
              "      fill: #1967D2;\n",
              "      height: 32px;\n",
              "      padding: 0 0 0 0;\n",
              "      width: 32px;\n",
              "    }\n",
              "\n",
              "    .colab-df-convert:hover {\n",
              "      background-color: #E2EBFA;\n",
              "      box-shadow: 0px 1px 2px rgba(60, 64, 67, 0.3), 0px 1px 3px 1px rgba(60, 64, 67, 0.15);\n",
              "      fill: #174EA6;\n",
              "    }\n",
              "\n",
              "    [theme=dark] .colab-df-convert {\n",
              "      background-color: #3B4455;\n",
              "      fill: #D2E3FC;\n",
              "    }\n",
              "\n",
              "    [theme=dark] .colab-df-convert:hover {\n",
              "      background-color: #434B5C;\n",
              "      box-shadow: 0px 1px 3px 1px rgba(0, 0, 0, 0.15);\n",
              "      filter: drop-shadow(0px 1px 2px rgba(0, 0, 0, 0.3));\n",
              "      fill: #FFFFFF;\n",
              "    }\n",
              "  </style>\n",
              "\n",
              "      <script>\n",
              "        const buttonEl =\n",
              "          document.querySelector('#df-4f97f8d7-e2bc-40f9-abd6-19a7e833b14d button.colab-df-convert');\n",
              "        buttonEl.style.display =\n",
              "          google.colab.kernel.accessAllowed ? 'block' : 'none';\n",
              "\n",
              "        async function convertToInteractive(key) {\n",
              "          const element = document.querySelector('#df-4f97f8d7-e2bc-40f9-abd6-19a7e833b14d');\n",
              "          const dataTable =\n",
              "            await google.colab.kernel.invokeFunction('convertToInteractive',\n",
              "                                                     [key], {});\n",
              "          if (!dataTable) return;\n",
              "\n",
              "          const docLinkHtml = 'Like what you see? Visit the ' +\n",
              "            '<a target=\"_blank\" href=https://colab.research.google.com/notebooks/data_table.ipynb>data table notebook</a>'\n",
              "            + ' to learn more about interactive tables.';\n",
              "          element.innerHTML = '';\n",
              "          dataTable['output_type'] = 'display_data';\n",
              "          await google.colab.output.renderOutput(dataTable, element);\n",
              "          const docLink = document.createElement('div');\n",
              "          docLink.innerHTML = docLinkHtml;\n",
              "          element.appendChild(docLink);\n",
              "        }\n",
              "      </script>\n",
              "    </div>\n",
              "  </div>\n",
              "  "
            ]
          },
          "metadata": {},
          "execution_count": 36
        }
      ]
    },
    {
      "cell_type": "code",
      "source": [
        "from sklearn.model_selection import train_test_split\n",
        "data_train, data_test, target_train, target_test  = train_test_split(df, boston_df_1['target'], test_size=0.2, random_state=50)"
      ],
      "metadata": {
        "id": "4RJldhvN8gyq"
      },
      "execution_count": 37,
      "outputs": []
    },
    {
      "cell_type": "code",
      "source": [
        "from sklearn.linear_model import LinearRegression\n",
        "lr = LinearRegression()"
      ],
      "metadata": {
        "id": "KeSYShiH9zuk"
      },
      "execution_count": 38,
      "outputs": []
    },
    {
      "cell_type": "code",
      "source": [
        "lr.fit(data_train, target_train)\n",
        "predict = lr.predict(data_test)"
      ],
      "metadata": {
        "id": "KZ64tR7g92Dv"
      },
      "execution_count": 39,
      "outputs": []
    },
    {
      "cell_type": "code",
      "source": [
        "display(lr.score(data_train, target_train))"
      ],
      "metadata": {
        "colab": {
          "base_uri": "https://localhost:8080/",
          "height": 35
        },
        "id": "gnEULjkt94Tm",
        "outputId": "bb62f21b-1927-4be0-bd4d-993dc0d38d0b"
      },
      "execution_count": 40,
      "outputs": [
        {
          "output_type": "display_data",
          "data": {
            "text/plain": [
              "0.6527847920948315"
            ]
          },
          "metadata": {}
        }
      ]
    },
    {
      "cell_type": "markdown",
      "source": [
        "データ量が少ないためか、特徴量を絞り込み過ぎると精度が出ないのは確定した。"
      ],
      "metadata": {
        "id": "rDV9DBKgLJme"
      }
    },
    {
      "cell_type": "markdown",
      "source": [
        "#AutoML\n"
      ],
      "metadata": {
        "id": "AwLexsw1C43b"
      }
    },
    {
      "cell_type": "code",
      "source": [
        "!pip install flaml"
      ],
      "metadata": {
        "colab": {
          "base_uri": "https://localhost:8080/"
        },
        "id": "0914pbRkBT7k",
        "outputId": "61f984bc-7f50-4557-debb-55b84dac9df2"
      },
      "execution_count": 41,
      "outputs": [
        {
          "output_type": "stream",
          "name": "stdout",
          "text": [
            "Collecting flaml\n",
            "  Downloading FLAML-1.0.1-py3-none-any.whl (157 kB)\n",
            "\u001b[?25l\r\u001b[K     |██                              | 10 kB 24.4 MB/s eta 0:00:01\r\u001b[K     |████▏                           | 20 kB 15.1 MB/s eta 0:00:01\r\u001b[K     |██████▎                         | 30 kB 10.0 MB/s eta 0:00:01\r\u001b[K     |████████▎                       | 40 kB 4.6 MB/s eta 0:00:01\r\u001b[K     |██████████▍                     | 51 kB 4.5 MB/s eta 0:00:01\r\u001b[K     |████████████▌                   | 61 kB 5.3 MB/s eta 0:00:01\r\u001b[K     |██████████████▌                 | 71 kB 5.8 MB/s eta 0:00:01\r\u001b[K     |████████████████▋               | 81 kB 5.1 MB/s eta 0:00:01\r\u001b[K     |██████████████████▊             | 92 kB 5.7 MB/s eta 0:00:01\r\u001b[K     |████████████████████▉           | 102 kB 5.2 MB/s eta 0:00:01\r\u001b[K     |██████████████████████▉         | 112 kB 5.2 MB/s eta 0:00:01\r\u001b[K     |█████████████████████████       | 122 kB 5.2 MB/s eta 0:00:01\r\u001b[K     |███████████████████████████     | 133 kB 5.2 MB/s eta 0:00:01\r\u001b[K     |█████████████████████████████   | 143 kB 5.2 MB/s eta 0:00:01\r\u001b[K     |███████████████████████████████▏| 153 kB 5.2 MB/s eta 0:00:01\r\u001b[K     |████████████████████████████████| 157 kB 5.2 MB/s \n",
            "\u001b[?25hRequirement already satisfied: pandas>=1.1.4 in /usr/local/lib/python3.7/dist-packages (from flaml) (1.3.5)\n",
            "Requirement already satisfied: NumPy>=1.16.2 in /usr/local/lib/python3.7/dist-packages (from flaml) (1.21.6)\n",
            "Requirement already satisfied: scikit-learn>=0.24 in /usr/local/lib/python3.7/dist-packages (from flaml) (1.0.2)\n",
            "Collecting lightgbm>=2.3.1\n",
            "  Downloading lightgbm-3.3.2-py3-none-manylinux1_x86_64.whl (2.0 MB)\n",
            "\u001b[K     |████████████████████████████████| 2.0 MB 55.2 MB/s \n",
            "\u001b[?25hRequirement already satisfied: scipy>=1.4.1 in /usr/local/lib/python3.7/dist-packages (from flaml) (1.4.1)\n",
            "Requirement already satisfied: xgboost<=1.3.3,>=0.90 in /usr/local/lib/python3.7/dist-packages (from flaml) (0.90)\n",
            "Requirement already satisfied: wheel in /usr/local/lib/python3.7/dist-packages (from lightgbm>=2.3.1->flaml) (0.37.1)\n",
            "Requirement already satisfied: python-dateutil>=2.7.3 in /usr/local/lib/python3.7/dist-packages (from pandas>=1.1.4->flaml) (2.8.2)\n",
            "Requirement already satisfied: pytz>=2017.3 in /usr/local/lib/python3.7/dist-packages (from pandas>=1.1.4->flaml) (2022.1)\n",
            "Requirement already satisfied: six>=1.5 in /usr/local/lib/python3.7/dist-packages (from python-dateutil>=2.7.3->pandas>=1.1.4->flaml) (1.15.0)\n",
            "Requirement already satisfied: threadpoolctl>=2.0.0 in /usr/local/lib/python3.7/dist-packages (from scikit-learn>=0.24->flaml) (3.1.0)\n",
            "Requirement already satisfied: joblib>=0.11 in /usr/local/lib/python3.7/dist-packages (from scikit-learn>=0.24->flaml) (1.1.0)\n",
            "Installing collected packages: lightgbm, flaml\n",
            "  Attempting uninstall: lightgbm\n",
            "    Found existing installation: lightgbm 2.2.3\n",
            "    Uninstalling lightgbm-2.2.3:\n",
            "      Successfully uninstalled lightgbm-2.2.3\n",
            "Successfully installed flaml-1.0.1 lightgbm-3.3.2\n"
          ]
        }
      ]
    },
    {
      "cell_type": "code",
      "source": [
        "# flaml\n",
        "import flaml\n",
        "from flaml import AutoML\n",
        "from flaml.data import get_output_from_log\n",
        "from flaml.ml import sklearn_metric_loss_score\n",
        "\n",
        "# 評価指標\n",
        "from sklearn.metrics import r2_score\n",
        "from sklearn.metrics import mean_absolute_error\n",
        "from sklearn.metrics import mean_squared_error"
      ],
      "metadata": {
        "id": "lwKhUppoC_AY"
      },
      "execution_count": 42,
      "outputs": []
    },
    {
      "cell_type": "code",
      "source": [
        "# ランダムシード値\n",
        "RANDOM_STATE = 10\n",
        "\n",
        "# 学習データと評価データの割合\n",
        "TEST_SIZE = 0.2\n",
        "\n",
        "# 学習データと評価データを作成\n",
        "x_train, x_test, y_train, y_test = train_test_split(\n",
        "    boston_df.iloc[:, 0 : boston_df.shape[1] - 1],\n",
        "    boston_df.iloc[:, boston_df.shape[1] - 1],\n",
        "    test_size=TEST_SIZE,\n",
        "    random_state=RANDOM_STATE,\n",
        ")"
      ],
      "metadata": {
        "id": "uwpXxTH7DWzd"
      },
      "execution_count": 43,
      "outputs": []
    },
    {
      "cell_type": "code",
      "source": [
        "# flaml学習\n",
        "automl = AutoML()\n",
        "automl.fit(X_train=x_train, y_train=y_train)"
      ],
      "metadata": {
        "colab": {
          "base_uri": "https://localhost:8080/"
        },
        "id": "XAD9axZ2DqX3",
        "outputId": "c7dd7c65-3b8e-42da-82b3-1873a180d054"
      },
      "execution_count": 44,
      "outputs": [
        {
          "output_type": "stream",
          "name": "stderr",
          "text": [
            "[flaml.automl: 05-14 01:28:11] {2105} INFO - task = classification\n",
            "[flaml.automl: 05-14 01:28:11] {2107} INFO - Data split method: stratified\n",
            "[flaml.automl: 05-14 01:28:11] {2111} INFO - Evaluation method: cv\n",
            "[flaml.automl: 05-14 01:28:11] {1061} INFO - class 0 augmented from 2 to 20\n",
            "[flaml.automl: 05-14 01:28:11] {1061} INFO - class 1 augmented from 1 to 20\n",
            "[flaml.automl: 05-14 01:28:11] {1061} INFO - class 2 augmented from 1 to 20\n",
            "[flaml.automl: 05-14 01:28:12] {1061} INFO - class 3 augmented from 1 to 20\n",
            "[flaml.automl: 05-14 01:28:12] {1061} INFO - class 4 augmented from 2 to 20\n",
            "[flaml.automl: 05-14 01:28:12] {1061} INFO - class 5 augmented from 1 to 20\n",
            "[flaml.automl: 05-14 01:28:12] {1061} INFO - class 6 augmented from 1 to 20\n",
            "[flaml.automl: 05-14 01:28:12] {1061} INFO - class 7 augmented from 1 to 20\n",
            "[flaml.automl: 05-14 01:28:12] {1061} INFO - class 8 augmented from 2 to 20\n",
            "[flaml.automl: 05-14 01:28:12] {1061} INFO - class 9 augmented from 1 to 20\n",
            "[flaml.automl: 05-14 01:28:12] {1061} INFO - class 10 augmented from 2 to 20\n",
            "[flaml.automl: 05-14 01:28:12] {1061} INFO - class 11 augmented from 1 to 20\n",
            "[flaml.automl: 05-14 01:28:12] {1061} INFO - class 12 augmented from 1 to 20\n",
            "[flaml.automl: 05-14 01:28:12] {1061} INFO - class 13 augmented from 1 to 20\n",
            "[flaml.automl: 05-14 01:28:12] {1061} INFO - class 14 augmented from 1 to 20\n",
            "[flaml.automl: 05-14 01:28:12] {1061} INFO - class 15 augmented from 1 to 20\n",
            "[flaml.automl: 05-14 01:28:12] {1061} INFO - class 16 augmented from 3 to 21\n",
            "[flaml.automl: 05-14 01:28:12] {1061} INFO - class 17 augmented from 2 to 20\n",
            "[flaml.automl: 05-14 01:28:12] {1061} INFO - class 18 augmented from 2 to 20\n",
            "[flaml.automl: 05-14 01:28:12] {1061} INFO - class 19 augmented from 1 to 20\n",
            "[flaml.automl: 05-14 01:28:12] {1061} INFO - class 20 augmented from 2 to 20\n",
            "[flaml.automl: 05-14 01:28:13] {1061} INFO - class 21 augmented from 1 to 20\n",
            "[flaml.automl: 05-14 01:28:13] {1061} INFO - class 22 augmented from 1 to 20\n",
            "[flaml.automl: 05-14 01:28:13] {1061} INFO - class 23 augmented from 1 to 20\n",
            "[flaml.automl: 05-14 01:28:13] {1061} INFO - class 24 augmented from 2 to 20\n",
            "[flaml.automl: 05-14 01:28:13] {1061} INFO - class 25 augmented from 2 to 20\n",
            "[flaml.automl: 05-14 01:28:13] {1061} INFO - class 26 augmented from 2 to 20\n",
            "[flaml.automl: 05-14 01:28:13] {1061} INFO - class 27 augmented from 1 to 20\n",
            "[flaml.automl: 05-14 01:28:13] {1061} INFO - class 28 augmented from 1 to 20\n",
            "[flaml.automl: 05-14 01:28:13] {1061} INFO - class 29 augmented from 3 to 21\n",
            "[flaml.automl: 05-14 01:28:13] {1061} INFO - class 30 augmented from 1 to 20\n",
            "[flaml.automl: 05-14 01:28:13] {1061} INFO - class 31 augmented from 1 to 20\n",
            "[flaml.automl: 05-14 01:28:13] {1061} INFO - class 32 augmented from 4 to 20\n",
            "[flaml.automl: 05-14 01:28:13] {1061} INFO - class 33 augmented from 1 to 20\n",
            "[flaml.automl: 05-14 01:28:13] {1061} INFO - class 34 augmented from 3 to 21\n",
            "[flaml.automl: 05-14 01:28:13] {1061} INFO - class 35 augmented from 4 to 20\n",
            "[flaml.automl: 05-14 01:28:13] {1061} INFO - class 36 augmented from 2 to 20\n",
            "[flaml.automl: 05-14 01:28:13] {1061} INFO - class 37 augmented from 2 to 20\n",
            "[flaml.automl: 05-14 01:28:13] {1061} INFO - class 38 augmented from 5 to 20\n",
            "[flaml.automl: 05-14 01:28:13] {1061} INFO - class 39 augmented from 2 to 20\n",
            "[flaml.automl: 05-14 01:28:13] {1061} INFO - class 40 augmented from 1 to 20\n",
            "[flaml.automl: 05-14 01:28:13] {1061} INFO - class 41 augmented from 3 to 21\n",
            "[flaml.automl: 05-14 01:28:13] {1061} INFO - class 42 augmented from 1 to 20\n",
            "[flaml.automl: 05-14 01:28:13] {1061} INFO - class 43 augmented from 2 to 20\n",
            "[flaml.automl: 05-14 01:28:13] {1061} INFO - class 44 augmented from 3 to 21\n",
            "[flaml.automl: 05-14 01:28:13] {1061} INFO - class 45 augmented from 2 to 20\n",
            "[flaml.automl: 05-14 01:28:13] {1061} INFO - class 46 augmented from 1 to 20\n",
            "[flaml.automl: 05-14 01:28:14] {1061} INFO - class 47 augmented from 1 to 20\n",
            "[flaml.automl: 05-14 01:28:14] {1061} INFO - class 48 augmented from 1 to 20\n",
            "[flaml.automl: 05-14 01:28:14] {1061} INFO - class 49 augmented from 1 to 20\n",
            "[flaml.automl: 05-14 01:28:14] {1061} INFO - class 50 augmented from 3 to 21\n",
            "[flaml.automl: 05-14 01:28:14] {1061} INFO - class 51 augmented from 1 to 20\n",
            "[flaml.automl: 05-14 01:28:14] {1061} INFO - class 52 augmented from 2 to 20\n",
            "[flaml.automl: 05-14 01:28:14] {1061} INFO - class 53 augmented from 4 to 20\n",
            "[flaml.automl: 05-14 01:28:14] {1061} INFO - class 54 augmented from 1 to 20\n",
            "[flaml.automl: 05-14 01:28:14] {1061} INFO - class 55 augmented from 2 to 20\n",
            "[flaml.automl: 05-14 01:28:14] {1061} INFO - class 56 augmented from 2 to 20\n",
            "[flaml.automl: 05-14 01:28:14] {1061} INFO - class 57 augmented from 1 to 20\n",
            "[flaml.automl: 05-14 01:28:14] {1061} INFO - class 58 augmented from 1 to 20\n",
            "[flaml.automl: 05-14 01:28:14] {1061} INFO - class 59 augmented from 2 to 20\n",
            "[flaml.automl: 05-14 01:28:14] {1061} INFO - class 60 augmented from 1 to 20\n",
            "[flaml.automl: 05-14 01:28:14] {1061} INFO - class 61 augmented from 1 to 20\n",
            "[flaml.automl: 05-14 01:28:14] {1061} INFO - class 62 augmented from 2 to 20\n",
            "[flaml.automl: 05-14 01:28:14] {1061} INFO - class 63 augmented from 2 to 20\n",
            "[flaml.automl: 05-14 01:28:14] {1061} INFO - class 64 augmented from 3 to 21\n",
            "[flaml.automl: 05-14 01:28:14] {1061} INFO - class 65 augmented from 1 to 20\n",
            "[flaml.automl: 05-14 01:28:14] {1061} INFO - class 66 augmented from 3 to 21\n",
            "[flaml.automl: 05-14 01:28:14] {1061} INFO - class 67 augmented from 3 to 21\n",
            "[flaml.automl: 05-14 01:28:14] {1061} INFO - class 68 augmented from 1 to 20\n",
            "[flaml.automl: 05-14 01:28:14] {1061} INFO - class 69 augmented from 1 to 20\n",
            "[flaml.automl: 05-14 01:28:14] {1061} INFO - class 70 augmented from 4 to 20\n",
            "[flaml.automl: 05-14 01:28:15] {1061} INFO - class 71 augmented from 1 to 20\n",
            "[flaml.automl: 05-14 01:28:15] {1061} INFO - class 72 augmented from 1 to 20\n",
            "[flaml.automl: 05-14 01:28:15] {1061} INFO - class 73 augmented from 3 to 21\n",
            "[flaml.automl: 05-14 01:28:15] {1061} INFO - class 74 augmented from 1 to 20\n",
            "[flaml.automl: 05-14 01:28:15] {1061} INFO - class 75 augmented from 3 to 21\n",
            "[flaml.automl: 05-14 01:28:15] {1061} INFO - class 76 augmented from 2 to 20\n",
            "[flaml.automl: 05-14 01:28:15] {1061} INFO - class 77 augmented from 1 to 20\n",
            "[flaml.automl: 05-14 01:28:15] {1061} INFO - class 78 augmented from 2 to 20\n",
            "[flaml.automl: 05-14 01:28:15] {1061} INFO - class 79 augmented from 2 to 20\n",
            "[flaml.automl: 05-14 01:28:15] {1061} INFO - class 80 augmented from 4 to 20\n",
            "[flaml.automl: 05-14 01:28:15] {1061} INFO - class 81 augmented from 2 to 20\n",
            "[flaml.automl: 05-14 01:28:15] {1061} INFO - class 82 augmented from 3 to 21\n",
            "[flaml.automl: 05-14 01:28:15] {1061} INFO - class 83 augmented from 2 to 20\n",
            "[flaml.automl: 05-14 01:28:15] {1061} INFO - class 84 augmented from 4 to 20\n",
            "[flaml.automl: 05-14 01:28:15] {1061} INFO - class 85 augmented from 6 to 24\n",
            "[flaml.automl: 05-14 01:28:15] {1061} INFO - class 86 augmented from 3 to 21\n",
            "[flaml.automl: 05-14 01:28:15] {1061} INFO - class 87 augmented from 3 to 21\n",
            "[flaml.automl: 05-14 01:28:15] {1061} INFO - class 88 augmented from 2 to 20\n",
            "[flaml.automl: 05-14 01:28:15] {1061} INFO - class 89 augmented from 2 to 20\n",
            "[flaml.automl: 05-14 01:28:15] {1061} INFO - class 90 augmented from 3 to 21\n",
            "[flaml.automl: 05-14 01:28:15] {1061} INFO - class 91 augmented from 5 to 20\n",
            "[flaml.automl: 05-14 01:28:15] {1061} INFO - class 92 augmented from 5 to 20\n",
            "[flaml.automl: 05-14 01:28:15] {1061} INFO - class 93 augmented from 2 to 20\n",
            "[flaml.automl: 05-14 01:28:15] {1061} INFO - class 94 augmented from 4 to 20\n",
            "[flaml.automl: 05-14 01:28:16] {1061} INFO - class 95 augmented from 3 to 21\n",
            "[flaml.automl: 05-14 01:28:16] {1061} INFO - class 96 augmented from 3 to 21\n",
            "[flaml.automl: 05-14 01:28:16] {1061} INFO - class 97 augmented from 6 to 24\n",
            "[flaml.automl: 05-14 01:28:16] {1061} INFO - class 98 augmented from 3 to 21\n",
            "[flaml.automl: 05-14 01:28:16] {1061} INFO - class 99 augmented from 2 to 20\n",
            "[flaml.automl: 05-14 01:28:16] {1061} INFO - class 100 augmented from 3 to 21\n",
            "[flaml.automl: 05-14 01:28:16] {1061} INFO - class 101 augmented from 2 to 20\n",
            "[flaml.automl: 05-14 01:28:16] {1061} INFO - class 102 augmented from 4 to 20\n",
            "[flaml.automl: 05-14 01:28:16] {1061} INFO - class 103 augmented from 4 to 20\n",
            "[flaml.automl: 05-14 01:28:16] {1061} INFO - class 104 augmented from 2 to 20\n",
            "[flaml.automl: 05-14 01:28:16] {1061} INFO - class 105 augmented from 1 to 20\n",
            "[flaml.automl: 05-14 01:28:16] {1061} INFO - class 106 augmented from 7 to 21\n",
            "[flaml.automl: 05-14 01:28:16] {1061} INFO - class 107 augmented from 2 to 20\n",
            "[flaml.automl: 05-14 01:28:16] {1061} INFO - class 108 augmented from 3 to 21\n",
            "[flaml.automl: 05-14 01:28:16] {1061} INFO - class 109 augmented from 4 to 20\n",
            "[flaml.automl: 05-14 01:28:16] {1061} INFO - class 110 augmented from 3 to 21\n",
            "[flaml.automl: 05-14 01:28:16] {1061} INFO - class 111 augmented from 2 to 20\n",
            "[flaml.automl: 05-14 01:28:16] {1061} INFO - class 112 augmented from 2 to 20\n",
            "[flaml.automl: 05-14 01:28:16] {1061} INFO - class 113 augmented from 3 to 21\n",
            "[flaml.automl: 05-14 01:28:16] {1061} INFO - class 114 augmented from 3 to 21\n",
            "[flaml.automl: 05-14 01:28:16] {1061} INFO - class 115 augmented from 1 to 20\n",
            "[flaml.automl: 05-14 01:28:16] {1061} INFO - class 116 augmented from 3 to 21\n",
            "[flaml.automl: 05-14 01:28:16] {1061} INFO - class 117 augmented from 2 to 20\n",
            "[flaml.automl: 05-14 01:28:16] {1061} INFO - class 118 augmented from 3 to 21\n",
            "[flaml.automl: 05-14 01:28:16] {1061} INFO - class 119 augmented from 6 to 24\n",
            "[flaml.automl: 05-14 01:28:16] {1061} INFO - class 120 augmented from 3 to 21\n",
            "[flaml.automl: 05-14 01:28:16] {1061} INFO - class 121 augmented from 4 to 20\n",
            "[flaml.automl: 05-14 01:28:16] {1061} INFO - class 122 augmented from 2 to 20\n",
            "[flaml.automl: 05-14 01:28:16] {1061} INFO - class 123 augmented from 1 to 20\n",
            "[flaml.automl: 05-14 01:28:16] {1061} INFO - class 124 augmented from 3 to 21\n",
            "[flaml.automl: 05-14 01:28:16] {1061} INFO - class 125 augmented from 4 to 20\n",
            "[flaml.automl: 05-14 01:28:16] {1061} INFO - class 126 augmented from 2 to 20\n",
            "[flaml.automl: 05-14 01:28:16] {1061} INFO - class 127 augmented from 2 to 20\n",
            "[flaml.automl: 05-14 01:28:17] {1061} INFO - class 128 augmented from 3 to 21\n",
            "[flaml.automl: 05-14 01:28:17] {1061} INFO - class 129 augmented from 1 to 20\n",
            "[flaml.automl: 05-14 01:28:17] {1061} INFO - class 130 augmented from 2 to 20\n",
            "[flaml.automl: 05-14 01:28:17] {1061} INFO - class 131 augmented from 3 to 21\n",
            "[flaml.automl: 05-14 01:28:17] {1061} INFO - class 132 augmented from 3 to 21\n",
            "[flaml.automl: 05-14 01:28:17] {1061} INFO - class 133 augmented from 1 to 20\n",
            "[flaml.automl: 05-14 01:28:17] {1061} INFO - class 134 augmented from 2 to 20\n",
            "[flaml.automl: 05-14 01:28:17] {1061} INFO - class 135 augmented from 4 to 20\n",
            "[flaml.automl: 05-14 01:28:17] {1061} INFO - class 136 augmented from 7 to 21\n",
            "[flaml.automl: 05-14 01:28:17] {1061} INFO - class 137 augmented from 1 to 20\n",
            "[flaml.automl: 05-14 01:28:17] {1061} INFO - class 138 augmented from 1 to 20\n",
            "[flaml.automl: 05-14 01:28:17] {1061} INFO - class 139 augmented from 1 to 20\n",
            "[flaml.automl: 05-14 01:28:17] {1061} INFO - class 140 augmented from 1 to 20\n",
            "[flaml.automl: 05-14 01:28:18] {1061} INFO - class 141 augmented from 1 to 20\n",
            "[flaml.automl: 05-14 01:28:18] {1061} INFO - class 142 augmented from 1 to 20\n",
            "[flaml.automl: 05-14 01:28:18] {1061} INFO - class 143 augmented from 2 to 20\n",
            "[flaml.automl: 05-14 01:28:18] {1061} INFO - class 144 augmented from 1 to 20\n",
            "[flaml.automl: 05-14 01:28:18] {1061} INFO - class 145 augmented from 1 to 20\n",
            "[flaml.automl: 05-14 01:28:18] {1061} INFO - class 146 augmented from 2 to 20\n",
            "[flaml.automl: 05-14 01:28:18] {1061} INFO - class 147 augmented from 2 to 20\n",
            "[flaml.automl: 05-14 01:28:18] {1061} INFO - class 148 augmented from 1 to 20\n",
            "[flaml.automl: 05-14 01:28:18] {1061} INFO - class 149 augmented from 1 to 20\n",
            "[flaml.automl: 05-14 01:28:18] {1061} INFO - class 150 augmented from 1 to 20\n",
            "[flaml.automl: 05-14 01:28:18] {1061} INFO - class 151 augmented from 1 to 20\n",
            "[flaml.automl: 05-14 01:28:18] {1061} INFO - class 152 augmented from 1 to 20\n",
            "[flaml.automl: 05-14 01:28:18] {1061} INFO - class 153 augmented from 3 to 21\n",
            "[flaml.automl: 05-14 01:28:19] {1061} INFO - class 154 augmented from 1 to 20\n",
            "[flaml.automl: 05-14 01:28:19] {1061} INFO - class 155 augmented from 1 to 20\n",
            "[flaml.automl: 05-14 01:28:19] {1061} INFO - class 156 augmented from 2 to 20\n",
            "[flaml.automl: 05-14 01:28:19] {1061} INFO - class 157 augmented from 2 to 20\n",
            "[flaml.automl: 05-14 01:28:19] {1061} INFO - class 158 augmented from 1 to 20\n",
            "[flaml.automl: 05-14 01:28:19] {1061} INFO - class 159 augmented from 2 to 20\n",
            "[flaml.automl: 05-14 01:28:19] {1061} INFO - class 160 augmented from 1 to 20\n",
            "[flaml.automl: 05-14 01:28:19] {1061} INFO - class 161 augmented from 1 to 20\n",
            "[flaml.automl: 05-14 01:28:19] {1061} INFO - class 162 augmented from 1 to 20\n",
            "[flaml.automl: 05-14 01:28:19] {1061} INFO - class 163 augmented from 1 to 20\n",
            "[flaml.automl: 05-14 01:28:19] {1061} INFO - class 164 augmented from 1 to 20\n",
            "[flaml.automl: 05-14 01:28:19] {1061} INFO - class 165 augmented from 2 to 20\n",
            "[flaml.automl: 05-14 01:28:19] {1061} INFO - class 166 augmented from 1 to 20\n",
            "[flaml.automl: 05-14 01:28:19] {1061} INFO - class 167 augmented from 1 to 20\n",
            "[flaml.automl: 05-14 01:28:20] {1061} INFO - class 168 augmented from 1 to 20\n",
            "[flaml.automl: 05-14 01:28:20] {1061} INFO - class 169 augmented from 1 to 20\n",
            "[flaml.automl: 05-14 01:28:20] {1061} INFO - class 170 augmented from 1 to 20\n",
            "[flaml.automl: 05-14 01:28:20] {1061} INFO - class 171 augmented from 1 to 20\n",
            "[flaml.automl: 05-14 01:28:20] {1061} INFO - class 172 augmented from 1 to 20\n",
            "[flaml.automl: 05-14 01:28:20] {1061} INFO - class 173 augmented from 1 to 20\n",
            "[flaml.automl: 05-14 01:28:20] {1061} INFO - class 174 augmented from 1 to 20\n",
            "[flaml.automl: 05-14 01:28:20] {1061} INFO - class 175 augmented from 2 to 20\n",
            "[flaml.automl: 05-14 01:28:20] {1061} INFO - class 176 augmented from 1 to 20\n",
            "[flaml.automl: 05-14 01:28:20] {1061} INFO - class 177 augmented from 2 to 20\n",
            "[flaml.automl: 05-14 01:28:20] {1061} INFO - class 178 augmented from 1 to 20\n",
            "[flaml.automl: 05-14 01:28:20] {1061} INFO - class 179 augmented from 1 to 20\n",
            "[flaml.automl: 05-14 01:28:20] {1061} INFO - class 180 augmented from 3 to 21\n",
            "[flaml.automl: 05-14 01:28:20] {1061} INFO - class 181 augmented from 1 to 20\n",
            "[flaml.automl: 05-14 01:28:21] {1061} INFO - class 182 augmented from 1 to 20\n",
            "[flaml.automl: 05-14 01:28:21] {1061} INFO - class 183 augmented from 2 to 20\n",
            "[flaml.automl: 05-14 01:28:21] {1061} INFO - class 184 augmented from 1 to 20\n",
            "[flaml.automl: 05-14 01:28:21] {1061} INFO - class 185 augmented from 1 to 20\n",
            "[flaml.automl: 05-14 01:28:21] {1061} INFO - class 186 augmented from 1 to 20\n",
            "[flaml.automl: 05-14 01:28:21] {1061} INFO - class 187 augmented from 1 to 20\n",
            "[flaml.automl: 05-14 01:28:21] {1061} INFO - class 188 augmented from 1 to 20\n",
            "[flaml.automl: 05-14 01:28:21] {1061} INFO - class 189 augmented from 1 to 20\n",
            "[flaml.automl: 05-14 01:28:21] {1061} INFO - class 190 augmented from 1 to 20\n",
            "[flaml.automl: 05-14 01:28:21] {1061} INFO - class 191 augmented from 1 to 20\n",
            "[flaml.automl: 05-14 01:28:21] {1061} INFO - class 192 augmented from 1 to 20\n",
            "[flaml.automl: 05-14 01:28:21] {1061} INFO - class 193 augmented from 1 to 20\n",
            "[flaml.automl: 05-14 01:28:21] {1061} INFO - class 194 augmented from 1 to 20\n",
            "[flaml.automl: 05-14 01:28:22] {1061} INFO - class 195 augmented from 1 to 20\n",
            "[flaml.automl: 05-14 01:28:22] {1061} INFO - class 196 augmented from 1 to 20\n",
            "[flaml.automl: 05-14 01:28:22] {1061} INFO - class 197 augmented from 1 to 20\n",
            "[flaml.automl: 05-14 01:28:22] {1061} INFO - class 198 augmented from 1 to 20\n",
            "[flaml.automl: 05-14 01:28:22] {1061} INFO - class 199 augmented from 1 to 20\n",
            "[flaml.automl: 05-14 01:28:22] {1061} INFO - class 200 augmented from 11 to 22\n",
            "[flaml.automl: 05-14 01:28:22] {2188} INFO - Minimizing error metric: log_loss\n",
            "[flaml.automl: 05-14 01:28:22] {2281} INFO - List of ML learners in AutoML Run: ['lgbm', 'rf', 'xgboost', 'extra_tree', 'xgb_limitdepth', 'lrl1']\n",
            "[flaml.automl: 05-14 01:28:22] {2567} INFO - iteration 0, current learner lgbm\n",
            "[flaml.automl: 05-14 01:28:29] {2698} INFO - Estimated sufficient time budget=74433s. Estimated necessary time budget=1716s.\n",
            "[flaml.automl: 05-14 01:28:29] {2750} INFO -  at 18.1s,\testimator lgbm's best error=2.1448,\tbest estimator lgbm's best error=2.1448\n",
            "[flaml.automl: 05-14 01:28:29] {2567} INFO - iteration 1, current learner lgbm\n",
            "[flaml.automl: 05-14 01:28:36] {2750} INFO -  at 24.7s,\testimator lgbm's best error=2.1448,\tbest estimator lgbm's best error=2.1448\n",
            "[flaml.automl: 05-14 01:28:36] {2567} INFO - iteration 2, current learner lgbm\n",
            "[flaml.automl: 05-14 01:28:38] {2750} INFO -  at 26.7s,\testimator lgbm's best error=0.8707,\tbest estimator lgbm's best error=0.8707\n",
            "[flaml.automl: 05-14 01:28:38] {2567} INFO - iteration 3, current learner lgbm\n",
            "[flaml.automl: 05-14 01:28:41] {2750} INFO -  at 30.0s,\testimator lgbm's best error=0.0183,\tbest estimator lgbm's best error=0.0183\n",
            "[flaml.automl: 05-14 01:28:41] {2567} INFO - iteration 4, current learner lgbm\n",
            "[flaml.automl: 05-14 01:28:43] {2750} INFO -  at 31.4s,\testimator lgbm's best error=0.0183,\tbest estimator lgbm's best error=0.0183\n",
            "[flaml.automl: 05-14 01:28:43] {2567} INFO - iteration 5, current learner lgbm\n",
            "[flaml.automl: 05-14 01:28:45] {2750} INFO -  at 34.0s,\testimator lgbm's best error=0.0183,\tbest estimator lgbm's best error=0.0183\n",
            "[flaml.automl: 05-14 01:28:45] {2567} INFO - iteration 6, current learner lgbm\n",
            "[flaml.automl: 05-14 01:28:48] {2750} INFO -  at 37.2s,\testimator lgbm's best error=0.0183,\tbest estimator lgbm's best error=0.0183\n",
            "[flaml.automl: 05-14 01:28:48] {2567} INFO - iteration 7, current learner lgbm\n",
            "[flaml.automl: 05-14 01:28:50] {2750} INFO -  at 38.9s,\testimator lgbm's best error=0.0183,\tbest estimator lgbm's best error=0.0183\n",
            "[flaml.automl: 05-14 01:28:50] {2567} INFO - iteration 8, current learner lgbm\n",
            "[flaml.automl: 05-14 01:28:57] {2750} INFO -  at 45.6s,\testimator lgbm's best error=0.0183,\tbest estimator lgbm's best error=0.0183\n",
            "[flaml.automl: 05-14 01:28:57] {2567} INFO - iteration 9, current learner xgboost\n",
            "[flaml.automl: 05-14 01:29:02] {2750} INFO -  at 50.9s,\testimator xgboost's best error=3.0454,\tbest estimator lgbm's best error=0.0183\n",
            "[flaml.automl: 05-14 01:29:02] {2567} INFO - iteration 10, current learner lgbm\n",
            "[flaml.automl: 05-14 01:29:04] {2750} INFO -  at 52.5s,\testimator lgbm's best error=0.0183,\tbest estimator lgbm's best error=0.0183\n",
            "[flaml.automl: 05-14 01:29:04] {2567} INFO - iteration 11, current learner xgboost\n",
            "[flaml.automl: 05-14 01:29:08] {2750} INFO -  at 57.2s,\testimator xgboost's best error=3.0454,\tbest estimator lgbm's best error=0.0183\n",
            "[flaml.automl: 05-14 01:29:08] {2567} INFO - iteration 12, current learner extra_tree\n",
            "[flaml.automl: 05-14 01:29:10] {2750} INFO -  at 58.6s,\testimator extra_tree's best error=4.2419,\tbest estimator lgbm's best error=0.0183\n",
            "[flaml.automl: 05-14 01:29:10] {2567} INFO - iteration 13, current learner rf\n",
            "[flaml.automl: 05-14 01:29:11] {2750} INFO -  at 59.8s,\testimator rf's best error=4.1701,\tbest estimator lgbm's best error=0.0183\n",
            "[flaml.automl: 05-14 01:29:11] {2567} INFO - iteration 14, current learner xgb_limitdepth\n",
            "[flaml.automl: 05-14 01:29:11] {2750} INFO -  at 60.2s,\testimator xgb_limitdepth's best error=3.5625,\tbest estimator lgbm's best error=0.0183\n",
            "[flaml.automl: 05-14 01:29:12] {2976} INFO - retrain lgbm for 0.6s\n",
            "[flaml.automl: 05-14 01:29:12] {2981} INFO - retrained model: LGBMClassifier(colsample_bytree=0.9285002286474459,\n",
            "               learning_rate=0.7260594590615893, max_bin=511,\n",
            "               min_child_samples=9, n_estimators=9, num_leaves=4,\n",
            "               reg_alpha=0.0036840681931986645, reg_lambda=0.7532480505730402,\n",
            "               verbose=-1)\n",
            "[flaml.automl: 05-14 01:29:12] {2310} INFO - fit succeeded\n",
            "[flaml.automl: 05-14 01:29:12] {2312} INFO - Time taken to find the best model: 30.04870843887329\n"
          ]
        }
      ]
    },
    {
      "cell_type": "code",
      "source": [
        "#最善のモデルとハイパラメータなどを確認できる\n",
        "print(\"Best ML leaner:\", automl.best_estimator)\n",
        "print(\"Best hyperparmeter config:\", automl.best_config)\n",
        "print(\"Best accuracy on validation data: {0:.4g}\".format(1 - automl.best_loss))\n",
        "print(\"Training duration of best run: {0:.4g} s\".format(automl.best_config_train_time))"
      ],
      "metadata": {
        "colab": {
          "base_uri": "https://localhost:8080/"
        },
        "id": "mfNxQdovDtLn",
        "outputId": "9504dc39-69d3-42a7-f973-08d594db124d"
      },
      "execution_count": 45,
      "outputs": [
        {
          "output_type": "stream",
          "name": "stdout",
          "text": [
            "Best ML leaner: lgbm\n",
            "Best hyperparmeter config: {'n_estimators': 9, 'num_leaves': 4, 'min_child_samples': 9, 'learning_rate': 0.7260594590615893, 'log_max_bin': 9, 'colsample_bytree': 0.9285002286474459, 'reg_alpha': 0.0036840681931986645, 'reg_lambda': 0.7532480505730402}\n",
            "Best accuracy on validation data: 0.9817\n",
            "Training duration of best run: 0.6492 s\n"
          ]
        }
      ]
    },
    {
      "cell_type": "code",
      "source": [
        "#AutoMLで算出したパラメータ\n",
        "automl_settings_best ={\n",
        "  #'n_estimators': 9,\n",
        "  'num_leaves': 4, \n",
        "  'min_child_samples': 9, \n",
        "  'learning_rate': 0.7260594590615893, \n",
        "  'colsample_bytree': 0.9285002286474459,\n",
        "  'reg_alpha': 0.0036840681931986645, \n",
        "  'reg_lambda': 0.7532480505730402,\n",
        "}"
      ],
      "metadata": {
        "id": "OsMGz--wE3fg"
      },
      "execution_count": 52,
      "outputs": []
    },
    {
      "cell_type": "code",
      "source": [
        "import lightgbm as lgbm"
      ],
      "metadata": {
        "id": "QMVtdVh4Hg9u"
      },
      "execution_count": 53,
      "outputs": []
    },
    {
      "cell_type": "code",
      "source": [
        "lgb_train = lgbm.Dataset(\n",
        "                 x_train, \n",
        "                 y_train)\n",
        "#パラメータと学習データを与える\n",
        "lgb = lgbm.train(automl_settings_best, lgb_train)\n",
        "pred=lgb.predict(x_test)\n",
        "pred"
      ],
      "metadata": {
        "colab": {
          "base_uri": "https://localhost:8080/"
        },
        "id": "I7nvlC1VHg7l",
        "outputId": "52c3083a-a436-44f9-ec6b-6e2895ae7164"
      },
      "execution_count": 54,
      "outputs": [
        {
          "output_type": "stream",
          "name": "stdout",
          "text": [
            "[LightGBM] [Warning] Auto-choosing row-wise multi-threading, the overhead of testing was 0.002845 seconds.\n",
            "You can set `force_row_wise=true` to remove the overhead.\n",
            "And if memory is not enough, you can set `force_col_wise=true`.\n",
            "[LightGBM] [Info] Total Bins 1035\n",
            "[LightGBM] [Info] Number of data points in the train set: 404, number of used features: 13\n",
            "[LightGBM] [Info] Start training from score 21.841832\n"
          ]
        },
        {
          "output_type": "execute_result",
          "data": {
            "text/plain": [
              "array([28.89852688, 27.25500565, 23.97611657, 22.41812063, 14.068582  ,\n",
              "       17.14375689, 45.17281538, 15.85355096, 21.51184805, 44.92457813,\n",
              "       21.06321664, 24.10820172, 26.18615363, 30.01824639, 31.92422212,\n",
              "       46.7994842 , 24.02913392, 23.56850826, 22.59329177, 16.26487296,\n",
              "       30.20748515, 16.19201968, 22.51838404, 24.73531888, 40.33564894,\n",
              "       18.73000546, 19.5024182 , 18.10529936, 46.1546033 , 12.46538635,\n",
              "       25.14608471, 35.46153004, 25.62268741, 25.48577269, 18.59709632,\n",
              "       20.71865395,  7.51922243, 35.05027549, 24.20322269, 23.03130357,\n",
              "       42.30162301, 20.69432106, 14.21451596, 30.25559039, 21.00531915,\n",
              "       25.66854756, 18.62144032, 21.95122714, 52.02060435, 15.27397327,\n",
              "       22.55887265, 14.20819994, 21.4100884 , 44.23091557, 26.28397728,\n",
              "       28.47181482, 21.21457781, 21.02397508, 20.82875743, 18.12478307,\n",
              "       20.03820574, 22.59213026, 48.27850808, 46.31260269, 29.74546706,\n",
              "       15.82279647, 23.51683809,  8.31878723, 29.76376551, 40.64539365,\n",
              "       16.03186634, 26.93186508, 18.12699016, 34.58233518, 24.98543126,\n",
              "       15.57655693, 37.35834539,  6.08251678, 17.92586345, 29.86094112,\n",
              "       21.20855173, 20.96544296, 19.56647968, 23.58569577, 31.54703729,\n",
              "       30.35090766, 26.13994203, 32.57518425, 23.75077501,  4.52581059,\n",
              "       23.43232492, 20.36810959, 19.67446114, 25.28774929, 15.78685439,\n",
              "       19.46527125, 23.29726847, 23.39920273, 23.34639833, 20.92428399,\n",
              "       20.78405735, 17.60511262])"
            ]
          },
          "metadata": {},
          "execution_count": 54
        }
      ]
    },
    {
      "cell_type": "code",
      "source": [
        "# 評価\n",
        "def calculate_scores(true, pred):\n",
        "\n",
        "    scores = {}\n",
        "    scores = pd.DataFrame(\n",
        "        {\n",
        "            \"R2\": r2_score(true, pred),\n",
        "            \"MAE\": mean_absolute_error(true, pred),\n",
        "            \"MSE\": mean_squared_error(true, pred),\n",
        "            \"RMSE\": np.sqrt(mean_squared_error(true, pred)),\n",
        "        },\n",
        "        index=[\"scores\"],\n",
        "    )\n",
        "    return scores\n",
        "\n",
        "scores = calculate_scores(y_test, pred)\n",
        "print(scores)"
      ],
      "metadata": {
        "colab": {
          "base_uri": "https://localhost:8080/"
        },
        "id": "82NE699gExlC",
        "outputId": "7512ba92-e8b7-4acd-da2f-46cc7ceee43b"
      },
      "execution_count": 56,
      "outputs": [
        {
          "output_type": "stream",
          "name": "stdout",
          "text": [
            "              R2       MAE        MSE      RMSE\n",
            "scores  0.845643  2.883835  16.142819  4.017813\n"
          ]
        }
      ]
    },
    {
      "cell_type": "markdown",
      "source": [
        "評価指標参照：https://self-methods.com/mae-rmse-mape-r2/"
      ],
      "metadata": {
        "id": "5Nbj2LZLMvnH"
      }
    },
    {
      "cell_type": "code",
      "source": [
        ""
      ],
      "metadata": {
        "id": "3LXAG8tEMeHf"
      },
      "execution_count": null,
      "outputs": []
    },
    {
      "cell_type": "code",
      "source": [
        ""
      ],
      "metadata": {
        "id": "c_2xTQtlKH7l"
      },
      "execution_count": null,
      "outputs": []
    }
  ]
}