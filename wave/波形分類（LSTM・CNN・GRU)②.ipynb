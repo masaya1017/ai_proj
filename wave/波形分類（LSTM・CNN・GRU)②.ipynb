{
  "nbformat": 4,
  "nbformat_minor": 0,
  "metadata": {
    "colab": {
      "name": "波形分類(予測).ipynb",
      "provenance": [],
      "collapsed_sections": []
    },
    "kernelspec": {
      "name": "python3",
      "display_name": "Python 3"
    },
    "language_info": {
      "name": "python"
    },
    "accelerator": "GPU"
  },
  "cells": [
    {
      "cell_type": "code",
      "metadata": {
        "id": "6VCwyvtF1hlf"
      },
      "source": [
        "from tensorflow import keras\n",
        "import numpy as np\n",
        "import librosa\n",
        "from sklearn.preprocessing import StandardScaler\n",
        "import matplotlib.pyplot as plt"
      ],
      "execution_count": 1,
      "outputs": []
    },
    {
      "cell_type": "code",
      "metadata": {
        "id": "ZbRevulBzxXf"
      },
      "source": [
        "#データサイズ初期設定\n",
        "sampling_rate=8000\n",
        "audio_duration=6\n",
        "audio_length=sampling_rate*audio_duration"
      ],
      "execution_count": 2,
      "outputs": []
    },
    {
      "cell_type": "code",
      "metadata": {
        "id": "Y_zh4ANZ7Iw6",
        "colab": {
          "base_uri": "https://localhost:8080/"
        },
        "outputId": "54772bf9-c987-4282-8048-98e2e06230f3"
      },
      "source": [
        "#学習済みモデルの読みこみ\n",
        "reconstructed_model = keras.models.load_model(\"./model-65.h5\")\n",
        "reconstructed_model"
      ],
      "execution_count": 3,
      "outputs": [
        {
          "output_type": "execute_result",
          "data": {
            "text/plain": [
              "<keras.engine.sequential.Sequential at 0x7f06e4d23c50>"
            ]
          },
          "metadata": {},
          "execution_count": 3
        }
      ]
    },
    {
      "cell_type": "code",
      "metadata": {
        "colab": {
          "base_uri": "https://localhost:8080/"
        },
        "id": "qqjtmg9D3nBV",
        "outputId": "75d5e64d-3dd1-4ef3-b492-2e4532eb0276"
      },
      "source": [
        "#wavファイルの確認\n",
        "data,_=librosa.core.load(\"./027aa77c.wav\",sr=sampling_rate,res_type='kaiser_fast')\n",
        "data_post=data.reshape(-1, 1)\n",
        "print(data_post.shape)\n",
        "data_post"
      ],
      "execution_count": 4,
      "outputs": [
        {
          "output_type": "stream",
          "name": "stdout",
          "text": [
            "(71360, 1)\n"
          ]
        },
        {
          "output_type": "execute_result",
          "data": {
            "text/plain": [
              "array([[-1.2207031e-04],\n",
              "       [-2.1362305e-04],\n",
              "       [-1.2207031e-04],\n",
              "       ...,\n",
              "       [-3.0517578e-05],\n",
              "       [-3.0517578e-05],\n",
              "       [-3.0517578e-05]], dtype=float32)"
            ]
          },
          "metadata": {},
          "execution_count": 4
        }
      ]
    },
    {
      "cell_type": "code",
      "metadata": {
        "colab": {
          "base_uri": "https://localhost:8080/",
          "height": 266
        },
        "id": "FeM7tGtY0ZYr",
        "outputId": "b7c451ba-2b38-405a-db2a-712461ec6afc"
      },
      "source": [
        "#クラリネットデータの可視化\n",
        "plt.plot(data_post)\n",
        "plt.show()"
      ],
      "execution_count": 5,
      "outputs": [
        {
          "output_type": "display_data",
          "data": {
            "image/png": "[encoded data removed]",
            "text/plain": [
              "<Figure size 432x288 with 1 Axes>"
            ]
          },
          "metadata": {
            "needs_background": "light"
          }
        }
      ]
    },
    {
      "cell_type": "code",
      "metadata": {
        "colab": {
          "base_uri": "https://localhost:8080/"
        },
        "id": "zHjyMz1mAX_w",
        "outputId": "882dd745-ba95-4b7b-e804-593019d02794"
      },
      "source": [
        "#スケール変換により、平均値を0と分散1に変換する。\n",
        "scaler=StandardScaler()\n",
        "scaler=scaler.fit(data_post)\n",
        "data_result=scaler.transform(data_post)\n",
        "data_result"
      ],
      "execution_count": 6,
      "outputs": [
        {
          "output_type": "execute_result",
          "data": {
            "text/plain": [
              "array([[-1.1065511e-03],\n",
              "       [-2.2140075e-03],\n",
              "       [-1.1065511e-03],\n",
              "       ...,\n",
              "       [ 9.0529181e-07],\n",
              "       [ 9.0529181e-07],\n",
              "       [ 9.0529181e-07]], dtype=float32)"
            ]
          },
          "metadata": {},
          "execution_count": 6
        }
      ]
    },
    {
      "cell_type": "code",
      "metadata": {
        "colab": {
          "base_uri": "https://localhost:8080/",
          "height": 282
        },
        "id": "vLUxbcsM44sa",
        "outputId": "29e0afc1-e20a-4537-c1cd-749ed88d3acc"
      },
      "source": [
        "data_result=data_result[0:audio_length]\n",
        "#波形データの中身の確認➁（グラフより）⇒答えはクラリネット\n",
        "plt.plot(data_result)\n",
        "print(data_result.size)\n",
        "plt.show()"
      ],
      "execution_count": 7,
      "outputs": [
        {
          "output_type": "stream",
          "name": "stdout",
          "text": [
            "48000\n"
          ]
        },
        {
          "output_type": "display_data",
          "data": {
            "image/png": "[encoded data removed]",
            "text/plain": [
              "<Figure size 432x288 with 1 Axes>"
            ]
          },
          "metadata": {
            "needs_background": "light"
          }
        }
      ]
    },
    {
      "cell_type": "code",
      "metadata": {
        "colab": {
          "base_uri": "https://localhost:8080/"
        },
        "id": "gGrmsWyg5Mcg",
        "outputId": "be1082c4-4d32-43eb-f9b5-df002dc5bdb1"
      },
      "source": [
        "#初期化\n",
        "dim=(audio_length,1)#二次元でサイズを指定\n",
        "ary=np.empty((1,*dim))\n",
        "ary[0,]=[[d] for d in data_result] \n",
        "ary.shape"
      ],
      "execution_count": 8,
      "outputs": [
        {
          "output_type": "execute_result",
          "data": {
            "text/plain": [
              "(1, 48000, 1)"
            ]
          },
          "metadata": {},
          "execution_count": 8
        }
      ]
    },
    {
      "cell_type": "code",
      "metadata": {
        "colab": {
          "base_uri": "https://localhost:8080/"
        },
        "id": "O6n036Fq68Wq",
        "outputId": "94ef2d82-d140-4822-c1f6-062fd1e6ecfd"
      },
      "source": [
        "predictions=reconstructed_model.predict(ary,verbose=1)"
      ],
      "execution_count": 9,
      "outputs": [
        {
          "output_type": "stream",
          "name": "stdout",
          "text": [
            "1/1 [==============================] - 28s 28s/step\n"
          ]
        }
      ]
    },
    {
      "cell_type": "code",
      "metadata": {
        "id": "ELCU0WcX7TIb",
        "colab": {
          "base_uri": "https://localhost:8080/"
        },
        "outputId": "cc23c04c-f3dc-42a8-be5b-239d584a03be"
      },
      "source": [
        "predictions"
      ],
      "execution_count": 10,
      "outputs": [
        {
          "output_type": "execute_result",
          "data": {
            "text/plain": [
              "array([[1.2055272e-02, 9.8793811e-01, 6.6147963e-06]], dtype=float32)"
            ]
          },
          "metadata": {},
          "execution_count": 10
        }
      ]
    },
    {
      "cell_type": "markdown",
      "metadata": {
        "id": "UOUXcR5e1GJ7"
      },
      "source": [
        "＊ソフトマックス関数によって、出力される結果は[Cello,Clarinet,Applause]の順に、確率が格納された配列となる。"
      ]
    },
    {
      "cell_type": "code",
      "metadata": {
        "colab": {
          "base_uri": "https://localhost:8080/"
        },
        "id": "_9w85ZLtb2MG",
        "outputId": "04789f04-18ce-49ea-bf1f-9a4ee6ed91cf"
      },
      "source": [
        "#argmax→配列の中で最も大きな値のインデックスを取得する。\n",
        "result=np.argmax(predictions)\n",
        "if result==0:\n",
        "  print(\"推測結果:\",\"Cello\")\n",
        "elif result==1:\n",
        "  print(\"推測結果:\",\"Clarinet\")\n",
        "elif result==2:\n",
        "  print(\"推測結果:\",\"Applause\")"
      ],
      "execution_count": 11,
      "outputs": [
        {
          "output_type": "stream",
          "name": "stdout",
          "text": [
            "推測結果: Clarinet\n"
          ]
        }
      ]
    },
    {
      "cell_type": "code",
      "metadata": {
        "id": "tOZ76C-aoSwk"
      },
      "source": [
        ""
      ],
      "execution_count": null,
      "outputs": []
    }
  ]
}