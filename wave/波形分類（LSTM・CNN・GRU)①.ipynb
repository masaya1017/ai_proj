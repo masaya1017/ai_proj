{
  "nbformat": 4,
  "nbformat_minor": 0,
  "metadata": {
    "colab": {
      "name": "波形分類（LSTM・CNN・GRU) (1).ipynb",
      "provenance": [],
      "collapsed_sections": []
    },
    "kernelspec": {
      "name": "python3",
      "display_name": "Python 3"
    },
    "language_info": {
      "name": "python"
    },
    "accelerator": "GPU"
  },
  "cells": [
    {
      "cell_type": "markdown",
      "metadata": {
        "id": "67xRIIO7aBkf"
      },
      "source": [
        "#ライブラリのインポート"
      ]
    },
    {
      "cell_type": "code",
      "metadata": {
        "id": "Qlq8NFEpKqCv"
      },
      "source": [
        "import librosa\n",
        "import pandas as pd\n",
        "import numpy as np\n",
        "import matplotlib.pyplot as plt\n",
        "import os\n",
        "import IPython.display as ipd"
      ],
      "execution_count": null,
      "outputs": []
    },
    {
      "cell_type": "markdown",
      "metadata": {
        "id": "HEfICOmgQ3DK"
      },
      "source": [
        "#データの取得と中身の確認"
      ]
    },
    {
      "cell_type": "code",
      "metadata": {
        "id": "xhQw-a-6MMHy"
      },
      "source": [
        "#学習データの読み込み\n",
        "train_data_dir=\"./drive/MyDrive/audio_dataset_3class/train/\"\n",
        "train_df=pd.read_csv(\"./drive/MyDrive/audio_dataset_3class/train.csv\",index_col=0)\n",
        "#テストデータの読み込み\n",
        "test_data_dir=\"./drive/MyDrive/audio_dataset_3class/test/\"\n",
        "test_df=pd.read_csv(\"./drive/MyDrive/audio_dataset_3class/test.csv\",index_col=0)"
      ],
      "execution_count": null,
      "outputs": []
    },
    {
      "cell_type": "code",
      "metadata": {
        "colab": {
          "base_uri": "https://localhost:8080/",
          "height": 235
        },
        "id": "BR0M5dklMxiD",
        "outputId": "fd268b55-063b-4e97-afd8-ec75c6c5cca0"
      },
      "source": [
        "#データの中身の確認\n",
        "train_df.head()"
      ],
      "execution_count": null,
      "outputs": [
        {
          "output_type": "execute_result",
          "data": {
            "text/html": [
              "<div>\n",
              "<style scoped>\n",
              "    .dataframe tbody tr th:only-of-type {\n",
              "        vertical-align: middle;\n",
              "    }\n",
              "\n",
              "    .dataframe tbody tr th {\n",
              "        vertical-align: top;\n",
              "    }\n",
              "\n",
              "    .dataframe thead th {\n",
              "        text-align: right;\n",
              "    }\n",
              "</style>\n",
              "<table border=\"1\" class=\"dataframe\">\n",
              "  <thead>\n",
              "    <tr style=\"text-align: right;\">\n",
              "      <th></th>\n",
              "      <th>label</th>\n",
              "    </tr>\n",
              "    <tr>\n",
              "      <th>fname</th>\n",
              "      <th></th>\n",
              "    </tr>\n",
              "  </thead>\n",
              "  <tbody>\n",
              "    <tr>\n",
              "      <th>969b4f60.wav</th>\n",
              "      <td>Cello</td>\n",
              "    </tr>\n",
              "    <tr>\n",
              "      <th>3e2bddda.wav</th>\n",
              "      <td>Cello</td>\n",
              "    </tr>\n",
              "    <tr>\n",
              "      <th>54bb57af.wav</th>\n",
              "      <td>Cello</td>\n",
              "    </tr>\n",
              "    <tr>\n",
              "      <th>9d59a719.wav</th>\n",
              "      <td>Applause</td>\n",
              "    </tr>\n",
              "    <tr>\n",
              "      <th>05f2c2a6.wav</th>\n",
              "      <td>Clarinet</td>\n",
              "    </tr>\n",
              "  </tbody>\n",
              "</table>\n",
              "</div>"
            ],
            "text/plain": [
              "                 label\n",
              "fname                 \n",
              "969b4f60.wav     Cello\n",
              "3e2bddda.wav     Cello\n",
              "54bb57af.wav     Cello\n",
              "9d59a719.wav  Applause\n",
              "05f2c2a6.wav  Clarinet"
            ]
          },
          "metadata": {},
          "execution_count": 4
        }
      ]
    },
    {
      "cell_type": "code",
      "metadata": {
        "colab": {
          "base_uri": "https://localhost:8080/"
        },
        "id": "nz9LZJ6QNEfQ",
        "outputId": "db1bea00-fb7b-48ce-d6c0-4d3c97259e71"
      },
      "source": [
        "#クラスごとの個数の確認\n",
        "train_df[\"label\"].value_counts()"
      ],
      "execution_count": null,
      "outputs": [
        {
          "output_type": "execute_result",
          "data": {
            "text/plain": [
              "Clarinet    130\n",
              "Cello       125\n",
              "Applause     60\n",
              "Name: label, dtype: int64"
            ]
          },
          "metadata": {},
          "execution_count": 5
        }
      ]
    },
    {
      "cell_type": "markdown",
      "metadata": {
        "id": "GHk0GrDSNmmK"
      },
      "source": [
        "＊ラベルはクラリネット、セロ、拍手に分類される。それに対して、音声（波形データ）が紐ついている。\n"
      ]
    },
    {
      "cell_type": "code",
      "metadata": {
        "colab": {
          "base_uri": "https://localhost:8080/",
          "height": 185
        },
        "id": "_IrCO9ivNWBp",
        "outputId": "68dfc3ab-84ba-4878-b8af-538f378e40d3"
      },
      "source": [
        "#波形データの中身の確認➀（数値より）\n",
        "print(train_data_dir.size)"
      ],
      "execution_count": null,
      "outputs": [
        {
          "output_type": "error",
          "ename": "AttributeError",
          "evalue": "ignored",
          "traceback": [
            "\u001b[0;31m---------------------------------------------------------------------------\u001b[0m",
            "\u001b[0;31mAttributeError\u001b[0m                            Traceback (most recent call last)",
            "\u001b[0;32m<ipython-input-7-ef03bb529018>\u001b[0m in \u001b[0;36m<module>\u001b[0;34m()\u001b[0m\n\u001b[1;32m      1\u001b[0m \u001b[0;31m#波形データの中身の確認➀（数値より）\u001b[0m\u001b[0;34m\u001b[0m\u001b[0;34m\u001b[0m\u001b[0;34m\u001b[0m\u001b[0m\n\u001b[0;32m----> 2\u001b[0;31m \u001b[0mprint\u001b[0m\u001b[0;34m(\u001b[0m\u001b[0mtrain_data_dir\u001b[0m\u001b[0;34m.\u001b[0m\u001b[0msize\u001b[0m\u001b[0;34m)\u001b[0m\u001b[0;34m\u001b[0m\u001b[0;34m\u001b[0m\u001b[0m\n\u001b[0m",
            "\u001b[0;31mAttributeError\u001b[0m: 'str' object has no attribute 'size'"
          ]
        }
      ]
    },
    {
      "cell_type": "code",
      "metadata": {
        "colab": {
          "base_uri": "https://localhost:8080/",
          "height": 264
        },
        "id": "9N3DXErWPLme",
        "outputId": "209ab61e-b14a-42bf-de36-dbf64d3d2db1"
      },
      "source": [
        "#波形データの中身の確認➁（グラフより）\n",
        "plt.plot(data)\n",
        "plt.show()"
      ],
      "execution_count": null,
      "outputs": [
        {
          "output_type": "display_data",
          "data": {
            "image/png": "[encoded data removed]",
            "text/plain": [
              "<Figure size 432x288 with 1 Axes>"
            ]
          },
          "metadata": {
            "needs_background": "light"
          }
        }
      ]
    },
    {
      "cell_type": "markdown",
      "metadata": {
        "id": "OFMdke0p4dj2"
      },
      "source": [
        "＊波形は、時間・振幅（強度）の次元からなる。"
      ]
    },
    {
      "cell_type": "markdown",
      "metadata": {
        "id": "7uxP3vFWRpCW"
      },
      "source": [
        "#データの全取得と加工"
      ]
    },
    {
      "cell_type": "code",
      "metadata": {
        "id": "z4Dgtr9bQtod"
      },
      "source": [
        "from sklearn.preprocessing import StandardScaler\n",
        "from tensorflow.keras.utils import to_categorical\n",
        "from tensorflow.keras.preprocessing.sequence import pad_sequences"
      ],
      "execution_count": null,
      "outputs": []
    },
    {
      "cell_type": "code",
      "metadata": {
        "id": "gHmX8TptRxya"
      },
      "source": [
        "#初期化\n",
        "sampling_rate=8000\n",
        "audio_duration=6\n",
        "audio_length=sampling_rate*audio_duration\n",
        "#ラベルごと数値を紐付ける(directionary)\n",
        "audio_label_dict={\"Cello\":0,\"Clarinet\":1,\"Applause\":2} "
      ],
      "execution_count": null,
      "outputs": []
    },
    {
      "cell_type": "code",
      "metadata": {
        "id": "jZcu-C3fRx4V"
      },
      "source": [
        "#複数ファイルより、データの取得\n",
        "def load_files(data_dir,filenames):\n",
        "  result=[]\n",
        "  #enumerateはよく使用するので復習しておくよい。\n",
        "  for i,filename in enumerate(filenames):\n",
        "    #ファイルパスの取得\n",
        "    file_path=data_dir+filename\n",
        "    #ファイルパスを指定して、dataのみを取得し、リストに格納している。\n",
        "    data,_=librosa.core.load(file_path,sr=sampling_rate,res_type='kaiser_fast')\n",
        "    #リストに結合する。\n",
        "    result.append(data)\n",
        "  return result"
      ],
      "execution_count": null,
      "outputs": []
    },
    {
      "cell_type": "code",
      "metadata": {
        "id": "2XKGRxmPStls"
      },
      "source": [
        "#音声データの加工を実行（モデルに渡せるように）\n",
        "def create_audio_dataset(train_df,test_df,train_data_dir,test_data_dir,audio_label_dict):\n",
        "  dim=(audio_length,1)#二次元でサイズを指定\n",
        "  train_filenames=train_df.index\n",
        "  test_filenames=test_df.index\n",
        "\n",
        "  #ファイルを指定して、データを取得している。\n",
        "  X_train=load_files(train_data_dir,train_filenames)\n",
        "  X_test=load_files(test_data_dir,test_filenames)\n",
        "\n",
        "  #データのサイズを固定し、合わせる→モデルにデータを渡すときは、データの型やサイズについて統合しておく必要がある。\n",
        "  X_train_post=pad_sequences(X_train,dtype='float32',maxlen=audio_length,padding='pre',truncating='pre',value=0.0).tolist()\n",
        "  X_test_post=pad_sequences(X_test,dtype='float32',maxlen=audio_length,padding='pre',truncating='pre',value=0.0).tolist()\n",
        "\n",
        "  #スケール変換により、平均値を0と分散1に変換する。\n",
        "  scaler=StandardScaler()\n",
        "  scaler=scaler.fit(X_train_post+X_test_post)\n",
        "  X_train_post=scaler.transform(X_train_post)\n",
        "  X_test_post=scaler.transform(X_test_post)\n",
        "\n",
        "  #三次元配列(ファイル数、波形長、1)の作成とデータの格納\n",
        "  X_train_ary=np.empty((len(train_filenames),*dim))\n",
        "  for index,data in enumerate(X_train_post):\n",
        "    X_train_ary[index,]=[[d] for d in data] #内包表記を使用している。復習しておくとよい。\n",
        "\n",
        "  X_test_ary=np.empty((len(test_filenames),*dim))\n",
        "  for index,data in enumerate(X_test_post):\n",
        "    X_test_ary[index,]=[[d] for d in data]\n",
        "\n",
        "  #ラベルデータの取得\n",
        "  labels_train=train_df[\"label\"]\n",
        "  labels_test=test_df[\"label\"]\n",
        "\n",
        "  #ディレクショナリを応用して、KeyよりValueを取得して、リストに格納する。\n",
        "  Y_train_ary=np.empty(len(labels_train),dtype=int)\n",
        "  for index,label in enumerate(labels_train):\n",
        "    Y_train_ary[index]=audio_label_dict[label]\n",
        "\n",
        "  Y_test_ary=np.empty(len(labels_test),dtype=int)\n",
        "  for index,label in enumerate(labels_test):\n",
        "    Y_test_ary[index]=audio_label_dict[label]\n",
        "  \n",
        "  #one-hot化\n",
        "  Y_train_result=to_categorical(Y_train_ary,num_classes=len(audio_label_dict))\n",
        "  Y_test_result=to_categorical(Y_test_ary,num_classes=len(audio_label_dict))\n",
        "\n",
        "  return X_train_ary,Y_train_result,X_test_ary,Y_test_result"
      ],
      "execution_count": null,
      "outputs": []
    },
    {
      "cell_type": "code",
      "metadata": {
        "id": "Y010s2nsStjV"
      },
      "source": [
        "#データ加工処理の実施\n",
        "X_train,Y_train,X_test,Y_test=create_audio_dataset(train_df,test_df,train_data_dir,test_data_dir,audio_label_dict)"
      ],
      "execution_count": null,
      "outputs": []
    },
    {
      "cell_type": "code",
      "metadata": {
        "colab": {
          "base_uri": "https://localhost:8080/"
        },
        "id": "-hI6XStDegkC",
        "outputId": "91155dad-df04-4c56-c43d-2a56e49a7e0b"
      },
      "source": [
        "#X_train,X_test→(データ数、波形長、1) Y_train,Y_test→(データ数,クラス数)\n",
        "X_train.shape,Y_train.shape,X_test.shape,Y_test.shape"
      ],
      "execution_count": null,
      "outputs": [
        {
          "output_type": "execute_result",
          "data": {
            "text/plain": [
              "((316, 24000, 1), (316, 3), (142, 24000, 1), (142, 3))"
            ]
          },
          "metadata": {},
          "execution_count": 14
        }
      ]
    },
    {
      "cell_type": "markdown",
      "metadata": {
        "id": "XEnLOzgaRulW"
      },
      "source": [
        "#モデルの定義"
      ]
    },
    {
      "cell_type": "code",
      "metadata": {
        "id": "JK8L3mApStX9"
      },
      "source": [
        "from tensorflow.keras.layers import Dense,LSTM,Dropout,Bidirectional,Activation,Conv1D,MaxPooling1D,GlobalMaxPool1D,GRU\n",
        "from tensorflow.keras.models import Sequential\n",
        "from tensorflow.keras.optimizers import Adam\n",
        "from tensorflow.keras import regularizers\n",
        "from tensorflow.keras.callbacks import ModelCheckpoint"
      ],
      "execution_count": null,
      "outputs": []
    },
    {
      "cell_type": "code",
      "metadata": {
        "id": "FsEJO-2yZZUn"
      },
      "source": [
        "#学習途中のモデルを保存するディレクトリの定義とチェックポイントの指定\n",
        "model_dir = \"./drive/My Drive/temp\"\n",
        "# 保存ディレクトリが存在しない場合、作成する。\n",
        "if not os.path.exists(model_dir):  \n",
        "    os.makedirs(model_dir)\n",
        "#学習がどこまで進行しているかを保存する。\n",
        "checkpoint = ModelCheckpoint(\n",
        "    filepath=os.path.join(model_dir, \"model-{epoch:02d}.h5\"), save_best_only=True)"
      ],
      "execution_count": null,
      "outputs": []
    },
    {
      "cell_type": "code",
      "metadata": {
        "id": "ZinWwON5StVk"
      },
      "source": [
        "#モデルの定義\n",
        "def model_create(state):\n",
        "  #lstmの定義\n",
        "  if state==0:\n",
        "    weight_decay=1e-4\n",
        "    input_shape=(audio_length,1)\n",
        "    model_lstm=Sequential()#Sequentialの使用\n",
        "    model_lstm.add(LSTM(128,return_sequences=True,dropout=0.25,input_shape=input_shape))\n",
        "    model_lstm.add(LSTM(128,return_sequences=True,dropout=0.25))\n",
        "    model_lstm.add(LSTM(128,return_sequences=False,dropout=0.25,kernel_regularizer=regularizers.l2(weight_decay)))\n",
        "    model_lstm.add(Dense(units=len(audio_label_dict),activation=\"softmax\"))\n",
        "    #ラベルが整数の場合は、損失関数としてsparse_categorical_crossentropy を使用する。\n",
        "    model_lstm.compile(loss=\"categorical_crossentropy\",optimizer=Adam(0.001),metrics=[\"acc\"])\n",
        "    return model_lstm\n",
        "  #cnnの定義\n",
        "  elif state==1:\n",
        "    #モデルの構築\n",
        "    input_shape=(audio_length,1)\n",
        "    model_cnn=Sequential()\n",
        "    #Conv1Dは一次元データに対する畳み込み層\n",
        "    model_cnn.add(Conv1D(filters=128,kernel_size=9,padding='valid',input_shape=input_shape,activation='relu'))\n",
        "    #pooling層（圧縮）\n",
        "    model_cnn.add(MaxPooling1D(pool_size=16))\n",
        "    #Dropout層（ユニットが保持しているデータの一部は次の隣あったユニットには渡さない）→過学習を防ぐ\n",
        "    model_cnn.add(Dropout(rate=0.20))\n",
        "\n",
        "    model_cnn.add(Conv1D(filters=64,kernel_size=3,padding='valid',input_shape=input_shape,activation='relu'))\n",
        "    model_cnn.add(GlobalMaxPool1D())\n",
        "    model_cnn.add(Dropout(rate=0.20))\n",
        "    #Dense層→全結合層　活性化関数(softmax)\n",
        "    model_cnn.add(Dense(len(audio_label_dict),activation=\"softmax\"))\n",
        "    #ラベルがone-hot エンコーディングで表現されている場合は、損失関数としてcategorical_crossentropy を使用する。\n",
        "    model_cnn.compile(optimizer=Adam(0.001),loss='categorical_crossentropy',metrics=['acc'])\n",
        "    return model_cnn\n",
        "  #gruの定義\n",
        "  elif state==2:\n",
        "    input_shape=(audio_length,1)\n",
        "    model_gru = Sequential()\n",
        "    model_gru.add(GRU(128,return_sequences=True,dropout=0.3,input_shape=input_shape))\n",
        "    model_gru.add(GRU(128,return_sequences=False,dropout=0.3))\n",
        "    model_gru.add(Dense(units=len(audio_label_dict),activation=\"softmax\"))\n",
        "    model_gru.compile(optimizer=Adam(0.001),loss='categorical_crossentropy',metrics=['acc'])\n",
        "    return model_gru"
      ],
      "execution_count": null,
      "outputs": []
    },
    {
      "cell_type": "code",
      "metadata": {
        "colab": {
          "base_uri": "https://localhost:8080/"
        },
        "id": "KhOlcbY2c7QG",
        "outputId": "36fecebd-e449-408b-b316-a277753582eb"
      },
      "source": [
        "#フラグ設定によって、使用するモデルを選択する。\n",
        "state=2\n",
        "#モデルの選択と構築\n",
        "model_post=model_create(state)\n",
        "model_post.summary()"
      ],
      "execution_count": null,
      "outputs": [
        {
          "output_type": "stream",
          "name": "stdout",
          "text": [
            "Model: \"sequential\"\n",
            "_________________________________________________________________\n",
            "Layer (type)                 Output Shape              Param #   \n",
            "=================================================================\n",
            "gru (GRU)                    (None, 24000, 128)        50304     \n",
            "_________________________________________________________________\n",
            "gru_1 (GRU)                  (None, 128)               99072     \n",
            "_________________________________________________________________\n",
            "dense (Dense)                (None, 3)                 387       \n",
            "=================================================================\n",
            "Total params: 149,763\n",
            "Trainable params: 149,763\n",
            "Non-trainable params: 0\n",
            "_________________________________________________________________\n"
          ]
        }
      ]
    },
    {
      "cell_type": "markdown",
      "metadata": {
        "id": "R8IJiKZZdcVr"
      },
      "source": [
        "#学習の実行"
      ]
    },
    {
      "cell_type": "code",
      "metadata": {
        "colab": {
          "base_uri": "https://localhost:8080/",
          "height": 391
        },
        "id": "9l6gG8uPdNXG",
        "outputId": "814ba7de-8547-4bd1-ad7e-a4aaa55f7775"
      },
      "source": [
        "#再度モデルを読み込む場合\n",
        "'''\n",
        "model_post.load_weights(os.path.join(model_dir, \"model-23.h5\"))  # 最新のモデルを指定\n",
        "\n",
        "if not os.path.exists(model_dir):  # ディレクトリが存在しない場合、作成する。\n",
        "    os.makedirs(model_dir)\n",
        "checkpoint = ModelCheckpoint(\n",
        "    filepath=os.path.join(model_dir, \"model_new-{epoch:02d}.h5\"), \n",
        "    monitor = 'loss',\n",
        "    save_best_only=True,\n",
        "    mode='min',\n",
        "    period=1) \n",
        "'''\n",
        "# 学習開始もしくは再開\n",
        "\n",
        "history=model_post.fit(X_train,Y_train,batch_size=16,epochs=70,validation_split=0.1,verbose=1, callbacks=[checkpoint])"
      ],
      "execution_count": null,
      "outputs": [
        {
          "output_type": "stream",
          "name": "stdout",
          "text": [
            "WARNING:tensorflow:`period` argument is deprecated. Please use `save_freq` to specify the frequency in number of batches seen.\n",
            " 8/18 [============>.................] - ETA: 52s - loss: 0.9141 - acc: 0.5156"
          ]
        },
        {
          "output_type": "error",
          "ename": "KeyboardInterrupt",
          "evalue": "ignored",
          "traceback": [
            "\u001b[0;31m---------------------------------------------------------------------------\u001b[0m",
            "\u001b[0;31mKeyboardInterrupt\u001b[0m                         Traceback (most recent call last)",
            "\u001b[0;32m<ipython-input-34-30ba88a36dc6>\u001b[0m in \u001b[0;36m<module>\u001b[0;34m()\u001b[0m\n\u001b[1;32m     14\u001b[0m \u001b[0;31m#history = model.fit(Xtrain, Ytrain, batch_size=BATCH_SIZE, epochs=NUM_EPOCHS,  validation_split=0.1, callbacks=[checkpoint])\u001b[0m\u001b[0;34m\u001b[0m\u001b[0;34m\u001b[0m\u001b[0;34m\u001b[0m\u001b[0m\n\u001b[1;32m     15\u001b[0m \u001b[0;34m\u001b[0m\u001b[0m\n\u001b[0;32m---> 16\u001b[0;31m \u001b[0mhistory\u001b[0m\u001b[0;34m=\u001b[0m\u001b[0mmodel_post\u001b[0m\u001b[0;34m.\u001b[0m\u001b[0mfit\u001b[0m\u001b[0;34m(\u001b[0m\u001b[0mX_train\u001b[0m\u001b[0;34m,\u001b[0m\u001b[0mY_train\u001b[0m\u001b[0;34m,\u001b[0m\u001b[0mbatch_size\u001b[0m\u001b[0;34m=\u001b[0m\u001b[0;36m16\u001b[0m\u001b[0;34m,\u001b[0m\u001b[0mepochs\u001b[0m\u001b[0;34m=\u001b[0m\u001b[0;36m1\u001b[0m\u001b[0;34m,\u001b[0m\u001b[0mvalidation_split\u001b[0m\u001b[0;34m=\u001b[0m\u001b[0;36m0.1\u001b[0m\u001b[0;34m,\u001b[0m\u001b[0mverbose\u001b[0m\u001b[0;34m=\u001b[0m\u001b[0;36m1\u001b[0m\u001b[0;34m,\u001b[0m \u001b[0mcallbacks\u001b[0m\u001b[0;34m=\u001b[0m\u001b[0;34m[\u001b[0m\u001b[0mcheckpoint\u001b[0m\u001b[0;34m]\u001b[0m\u001b[0;34m)\u001b[0m\u001b[0;34m\u001b[0m\u001b[0;34m\u001b[0m\u001b[0m\n\u001b[0m",
            "\u001b[0;32m/usr/local/lib/python3.7/dist-packages/keras/engine/training.py\u001b[0m in \u001b[0;36mfit\u001b[0;34m(self, x, y, batch_size, epochs, verbose, callbacks, validation_split, validation_data, shuffle, class_weight, sample_weight, initial_epoch, steps_per_epoch, validation_steps, validation_batch_size, validation_freq, max_queue_size, workers, use_multiprocessing)\u001b[0m\n\u001b[1;32m   1182\u001b[0m                 _r=1):\n\u001b[1;32m   1183\u001b[0m               \u001b[0mcallbacks\u001b[0m\u001b[0;34m.\u001b[0m\u001b[0mon_train_batch_begin\u001b[0m\u001b[0;34m(\u001b[0m\u001b[0mstep\u001b[0m\u001b[0;34m)\u001b[0m\u001b[0;34m\u001b[0m\u001b[0;34m\u001b[0m\u001b[0m\n\u001b[0;32m-> 1184\u001b[0;31m               \u001b[0mtmp_logs\u001b[0m \u001b[0;34m=\u001b[0m \u001b[0mself\u001b[0m\u001b[0;34m.\u001b[0m\u001b[0mtrain_function\u001b[0m\u001b[0;34m(\u001b[0m\u001b[0miterator\u001b[0m\u001b[0;34m)\u001b[0m\u001b[0;34m\u001b[0m\u001b[0;34m\u001b[0m\u001b[0m\n\u001b[0m\u001b[1;32m   1185\u001b[0m               \u001b[0;32mif\u001b[0m \u001b[0mdata_handler\u001b[0m\u001b[0;34m.\u001b[0m\u001b[0mshould_sync\u001b[0m\u001b[0;34m:\u001b[0m\u001b[0;34m\u001b[0m\u001b[0;34m\u001b[0m\u001b[0m\n\u001b[1;32m   1186\u001b[0m                 \u001b[0mcontext\u001b[0m\u001b[0;34m.\u001b[0m\u001b[0masync_wait\u001b[0m\u001b[0;34m(\u001b[0m\u001b[0;34m)\u001b[0m\u001b[0;34m\u001b[0m\u001b[0;34m\u001b[0m\u001b[0m\n",
            "\u001b[0;32m/usr/local/lib/python3.7/dist-packages/tensorflow/python/eager/def_function.py\u001b[0m in \u001b[0;36m__call__\u001b[0;34m(self, *args, **kwds)\u001b[0m\n\u001b[1;32m    883\u001b[0m \u001b[0;34m\u001b[0m\u001b[0m\n\u001b[1;32m    884\u001b[0m       \u001b[0;32mwith\u001b[0m \u001b[0mOptionalXlaContext\u001b[0m\u001b[0;34m(\u001b[0m\u001b[0mself\u001b[0m\u001b[0;34m.\u001b[0m\u001b[0m_jit_compile\u001b[0m\u001b[0;34m)\u001b[0m\u001b[0;34m:\u001b[0m\u001b[0;34m\u001b[0m\u001b[0;34m\u001b[0m\u001b[0m\n\u001b[0;32m--> 885\u001b[0;31m         \u001b[0mresult\u001b[0m \u001b[0;34m=\u001b[0m \u001b[0mself\u001b[0m\u001b[0;34m.\u001b[0m\u001b[0m_call\u001b[0m\u001b[0;34m(\u001b[0m\u001b[0;34m*\u001b[0m\u001b[0margs\u001b[0m\u001b[0;34m,\u001b[0m \u001b[0;34m**\u001b[0m\u001b[0mkwds\u001b[0m\u001b[0;34m)\u001b[0m\u001b[0;34m\u001b[0m\u001b[0;34m\u001b[0m\u001b[0m\n\u001b[0m\u001b[1;32m    886\u001b[0m \u001b[0;34m\u001b[0m\u001b[0m\n\u001b[1;32m    887\u001b[0m       \u001b[0mnew_tracing_count\u001b[0m \u001b[0;34m=\u001b[0m \u001b[0mself\u001b[0m\u001b[0;34m.\u001b[0m\u001b[0mexperimental_get_tracing_count\u001b[0m\u001b[0;34m(\u001b[0m\u001b[0;34m)\u001b[0m\u001b[0;34m\u001b[0m\u001b[0;34m\u001b[0m\u001b[0m\n",
            "\u001b[0;32m/usr/local/lib/python3.7/dist-packages/tensorflow/python/eager/def_function.py\u001b[0m in \u001b[0;36m_call\u001b[0;34m(self, *args, **kwds)\u001b[0m\n\u001b[1;32m    915\u001b[0m       \u001b[0;31m# In this case we have created variables on the first call, so we run the\u001b[0m\u001b[0;34m\u001b[0m\u001b[0;34m\u001b[0m\u001b[0;34m\u001b[0m\u001b[0m\n\u001b[1;32m    916\u001b[0m       \u001b[0;31m# defunned version which is guaranteed to never create variables.\u001b[0m\u001b[0;34m\u001b[0m\u001b[0;34m\u001b[0m\u001b[0;34m\u001b[0m\u001b[0m\n\u001b[0;32m--> 917\u001b[0;31m       \u001b[0;32mreturn\u001b[0m \u001b[0mself\u001b[0m\u001b[0;34m.\u001b[0m\u001b[0m_stateless_fn\u001b[0m\u001b[0;34m(\u001b[0m\u001b[0;34m*\u001b[0m\u001b[0margs\u001b[0m\u001b[0;34m,\u001b[0m \u001b[0;34m**\u001b[0m\u001b[0mkwds\u001b[0m\u001b[0;34m)\u001b[0m  \u001b[0;31m# pylint: disable=not-callable\u001b[0m\u001b[0;34m\u001b[0m\u001b[0;34m\u001b[0m\u001b[0m\n\u001b[0m\u001b[1;32m    918\u001b[0m     \u001b[0;32melif\u001b[0m \u001b[0mself\u001b[0m\u001b[0;34m.\u001b[0m\u001b[0m_stateful_fn\u001b[0m \u001b[0;32mis\u001b[0m \u001b[0;32mnot\u001b[0m \u001b[0;32mNone\u001b[0m\u001b[0;34m:\u001b[0m\u001b[0;34m\u001b[0m\u001b[0;34m\u001b[0m\u001b[0m\n\u001b[1;32m    919\u001b[0m       \u001b[0;31m# Release the lock early so that multiple threads can perform the call\u001b[0m\u001b[0;34m\u001b[0m\u001b[0;34m\u001b[0m\u001b[0;34m\u001b[0m\u001b[0m\n",
            "\u001b[0;32m/usr/local/lib/python3.7/dist-packages/tensorflow/python/eager/function.py\u001b[0m in \u001b[0;36m__call__\u001b[0;34m(self, *args, **kwargs)\u001b[0m\n\u001b[1;32m   3038\u001b[0m        filtered_flat_args) = self._maybe_define_function(args, kwargs)\n\u001b[1;32m   3039\u001b[0m     return graph_function._call_flat(\n\u001b[0;32m-> 3040\u001b[0;31m         filtered_flat_args, captured_inputs=graph_function.captured_inputs)  # pylint: disable=protected-access\n\u001b[0m\u001b[1;32m   3041\u001b[0m \u001b[0;34m\u001b[0m\u001b[0m\n\u001b[1;32m   3042\u001b[0m   \u001b[0;34m@\u001b[0m\u001b[0mproperty\u001b[0m\u001b[0;34m\u001b[0m\u001b[0;34m\u001b[0m\u001b[0m\n",
            "\u001b[0;32m/usr/local/lib/python3.7/dist-packages/tensorflow/python/eager/function.py\u001b[0m in \u001b[0;36m_call_flat\u001b[0;34m(self, args, captured_inputs, cancellation_manager)\u001b[0m\n\u001b[1;32m   1962\u001b[0m       \u001b[0;31m# No tape is watching; skip to running the function.\u001b[0m\u001b[0;34m\u001b[0m\u001b[0;34m\u001b[0m\u001b[0;34m\u001b[0m\u001b[0m\n\u001b[1;32m   1963\u001b[0m       return self._build_call_outputs(self._inference_function.call(\n\u001b[0;32m-> 1964\u001b[0;31m           ctx, args, cancellation_manager=cancellation_manager))\n\u001b[0m\u001b[1;32m   1965\u001b[0m     forward_backward = self._select_forward_and_backward_functions(\n\u001b[1;32m   1966\u001b[0m         \u001b[0margs\u001b[0m\u001b[0;34m,\u001b[0m\u001b[0;34m\u001b[0m\u001b[0;34m\u001b[0m\u001b[0m\n",
            "\u001b[0;32m/usr/local/lib/python3.7/dist-packages/tensorflow/python/eager/function.py\u001b[0m in \u001b[0;36mcall\u001b[0;34m(self, ctx, args, cancellation_manager)\u001b[0m\n\u001b[1;32m    594\u001b[0m               \u001b[0minputs\u001b[0m\u001b[0;34m=\u001b[0m\u001b[0margs\u001b[0m\u001b[0;34m,\u001b[0m\u001b[0;34m\u001b[0m\u001b[0;34m\u001b[0m\u001b[0m\n\u001b[1;32m    595\u001b[0m               \u001b[0mattrs\u001b[0m\u001b[0;34m=\u001b[0m\u001b[0mattrs\u001b[0m\u001b[0;34m,\u001b[0m\u001b[0;34m\u001b[0m\u001b[0;34m\u001b[0m\u001b[0m\n\u001b[0;32m--> 596\u001b[0;31m               ctx=ctx)\n\u001b[0m\u001b[1;32m    597\u001b[0m         \u001b[0;32melse\u001b[0m\u001b[0;34m:\u001b[0m\u001b[0;34m\u001b[0m\u001b[0;34m\u001b[0m\u001b[0m\n\u001b[1;32m    598\u001b[0m           outputs = execute.execute_with_cancellation(\n",
            "\u001b[0;32m/usr/local/lib/python3.7/dist-packages/tensorflow/python/eager/execute.py\u001b[0m in \u001b[0;36mquick_execute\u001b[0;34m(op_name, num_outputs, inputs, attrs, ctx, name)\u001b[0m\n\u001b[1;32m     58\u001b[0m     \u001b[0mctx\u001b[0m\u001b[0;34m.\u001b[0m\u001b[0mensure_initialized\u001b[0m\u001b[0;34m(\u001b[0m\u001b[0;34m)\u001b[0m\u001b[0;34m\u001b[0m\u001b[0;34m\u001b[0m\u001b[0m\n\u001b[1;32m     59\u001b[0m     tensors = pywrap_tfe.TFE_Py_Execute(ctx._handle, device_name, op_name,\n\u001b[0;32m---> 60\u001b[0;31m                                         inputs, attrs, num_outputs)\n\u001b[0m\u001b[1;32m     61\u001b[0m   \u001b[0;32mexcept\u001b[0m \u001b[0mcore\u001b[0m\u001b[0;34m.\u001b[0m\u001b[0m_NotOkStatusException\u001b[0m \u001b[0;32mas\u001b[0m \u001b[0me\u001b[0m\u001b[0;34m:\u001b[0m\u001b[0;34m\u001b[0m\u001b[0;34m\u001b[0m\u001b[0m\n\u001b[1;32m     62\u001b[0m     \u001b[0;32mif\u001b[0m \u001b[0mname\u001b[0m \u001b[0;32mis\u001b[0m \u001b[0;32mnot\u001b[0m \u001b[0;32mNone\u001b[0m\u001b[0;34m:\u001b[0m\u001b[0;34m\u001b[0m\u001b[0;34m\u001b[0m\u001b[0m\n",
            "\u001b[0;31mKeyboardInterrupt\u001b[0m: "
          ]
        }
      ]
    },
    {
      "cell_type": "markdown",
      "metadata": {
        "id": "9l_hjWEXil87"
      },
      "source": [
        "##学習済みモデルの評価(数値）"
      ]
    },
    {
      "cell_type": "markdown",
      "metadata": {
        "id": "gX7BNkD2GQ5v"
      },
      "source": [
        "#GRUの場合"
      ]
    },
    {
      "cell_type": "code",
      "metadata": {
        "colab": {
          "base_uri": "https://localhost:8080/"
        },
        "id": "oYHt7_ZpGVEZ",
        "outputId": "f9e249d1-42fb-4af0-a4c5-f5483159bdd5"
      },
      "source": [
        "#予測の実施\n",
        "predictions=model_post.predict(X_test,verbose=1)\n",
        "#予測した結果\n",
        "#クラス分類では、Argmaxがなじむようである。もっとも、Argmaxは配列のうち、最も大きな値のインデックスを取得する。\n",
        "pred_labels=np.array([np.argmax(pred) for pred in predictions])\n",
        "#目標データ\n",
        "actual_labels=np.array([audio_label_dict[lab] for lab in test_df[\"label\"]])\n",
        "#予測結果と目標データの一致の割合の算出\n",
        "temp=actual_labels==pred_labels\n",
        "temp.sum()/len(temp)"
      ],
      "execution_count": null,
      "outputs": [
        {
          "output_type": "stream",
          "name": "stdout",
          "text": [
            "5/5 [==============================] - 12s 2s/step\n"
          ]
        },
        {
          "output_type": "execute_result",
          "data": {
            "text/plain": [
              "0.4225352112676056"
            ]
          },
          "metadata": {},
          "execution_count": 29
        }
      ]
    },
    {
      "cell_type": "markdown",
      "metadata": {
        "id": "EoiBen4CGNZ2"
      },
      "source": [
        "#CNNの場合"
      ]
    },
    {
      "cell_type": "code",
      "metadata": {
        "colab": {
          "base_uri": "https://localhost:8080/"
        },
        "id": "dySErbIRd2mH",
        "outputId": "f75141d7-a2b6-47c0-a880-bfc6bf6532b7"
      },
      "source": [
        "#予測の実施\n",
        "predictions=model_post.predict(X_test,verbose=1)\n",
        "#予測した結果\n",
        "#クラス分類では、Argmaxがなじむようである。もっとも、Argmaxは配列のうち、最も大きな値のインデックスを取得する。\n",
        "pred_labels=np.array([np.argmax(pred) for pred in predictions])\n",
        "#目標データ\n",
        "actual_labels=np.array([audio_label_dict[lab] for lab in test_df[\"label\"]])\n",
        "#予測結果と目標データの一致の割合の算出\n",
        "temp=actual_labels==pred_labels\n",
        "temp.sum()/len(temp)"
      ],
      "execution_count": null,
      "outputs": [
        {
          "output_type": "stream",
          "name": "stdout",
          "text": [
            "5/5 [==============================] - 1s 141ms/step\n"
          ]
        },
        {
          "output_type": "execute_result",
          "data": {
            "text/plain": [
              "0.9295774647887324"
            ]
          },
          "metadata": {},
          "execution_count": 20
        }
      ]
    },
    {
      "cell_type": "markdown",
      "metadata": {
        "id": "Kb9PSzZPZopf"
      },
      "source": [
        "##学習済みモデルの評価(可視データ）"
      ]
    },
    {
      "cell_type": "code",
      "metadata": {
        "id": "RGqK5s0aoVE-"
      },
      "source": [
        "from sklearn.metrics import confusion_matrix\n",
        "import seaborn as sns"
      ],
      "execution_count": null,
      "outputs": []
    },
    {
      "cell_type": "markdown",
      "metadata": {
        "id": "rr_q1X9dEjgE"
      },
      "source": [
        "#CNNの場合"
      ]
    },
    {
      "cell_type": "code",
      "metadata": {
        "colab": {
          "base_uri": "https://localhost:8080/",
          "height": 264
        },
        "id": "EKaXE4OMm2ng",
        "outputId": "18548abd-6ec4-45c2-b30a-6d30abdf1ced"
      },
      "source": [
        "#損失度/精度について、学習用と検証用それぞれ別々に評価する。\n",
        "fig,ax=plt.subplots(2,1) #2行1列のグラフを表示する。\n",
        "ax[0].plot(history.history[\"loss\"],color=\"b\",label=\"Training loss\")\n",
        "ax[0].plot(history.history[\"val_loss\"],color=\"g\",label=\"Validation loss\")\n",
        "ax[0].legend #凡例の表示\n",
        "\n",
        "ax[1].plot(history.history[\"acc\"],color=\"b\",label=\"Training Accuracy\")\n",
        "ax[1].plot(history.history[\"val_acc\"],color=\"g\",label=\"Validation Accuracy\")\n",
        "ax[1].legend\n",
        "\n",
        "plt.show()"
      ],
      "execution_count": null,
      "outputs": [
        {
          "output_type": "display_data",
          "data": {
            "image/png": "[encoded data removed]",
            "text/plain": [
              "<Figure size 432x288 with 2 Axes>"
            ]
          },
          "metadata": {
            "needs_background": "light"
          }
        }
      ]
    },
    {
      "cell_type": "code",
      "metadata": {
        "colab": {
          "base_uri": "https://localhost:8080/",
          "height": 772
        },
        "id": "7WnFAW1YpBuP",
        "outputId": "c74281da-641d-4f55-b599-64b93e6d8dfc"
      },
      "source": [
        "#混合行列の作成\n",
        "cf_matrix=confusion_matrix(actual_labels,pred_labels)\n",
        "plt.figure(figsize=(13,13))\n",
        "c=sns.heatmap(cf_matrix,annot=True,fmt=\"d\")\n",
        "audio_label_list={\"Cello\",\"Clarinet\",\"Applause\"}\n",
        "c.set(xticklabels=audio_label_list,yticklabels=audio_label_list)\n",
        "plt.plot()"
      ],
      "execution_count": null,
      "outputs": [
        {
          "output_type": "execute_result",
          "data": {
            "text/plain": [
              "[]"
            ]
          },
          "metadata": {},
          "execution_count": 24
        },
        {
          "output_type": "display_data",
          "data": {
            "image/png": "[encoded data removed]",
            "text/plain": [
              "<Figure size 936x936 with 2 Axes>"
            ]
          },
          "metadata": {
            "needs_background": "light"
          }
        }
      ]
    },
    {
      "cell_type": "code",
      "metadata": {
        "id": "8c14PTI-v1F4"
      },
      "source": [
        ""
      ],
      "execution_count": null,
      "outputs": []
    }
  ]
}